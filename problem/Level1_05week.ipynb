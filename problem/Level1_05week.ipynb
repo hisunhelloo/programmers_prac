{
 "cells": [
  {
   "cell_type": "markdown",
   "id": "5fd27acc",
   "metadata": {},
   "source": [
    "[최소직사각형](https://school.programmers.co.kr/learn/courses/30/lessons/86491)"
   ]
  },
  {
   "cell_type": "code",
   "execution_count": null,
   "id": "af0c3da4",
   "metadata": {},
   "outputs": [],
   "source": [
    "def solution(sizes):\n",
    "    w, h = 0, 0\n",
    "    for size in sizes:\n",
    "        if max(size) > w:\n",
    "            w = max(size)\n",
    "        if min(size) > h:\n",
    "            h = min(size)\n",
    "    answer = w*h\n",
    "    return answer"
   ]
  },
  {
   "cell_type": "code",
   "execution_count": 2,
   "id": "472ca152",
   "metadata": {},
   "outputs": [
    {
     "data": {
      "text/plain": [
       "4000"
      ]
     },
     "execution_count": 2,
     "metadata": {},
     "output_type": "execute_result"
    }
   ],
   "source": [
    "def solution(sizes):\n",
    "    w, h = 0, 0\n",
    "    for size in sizes:\n",
    "        if max(size) > w:\n",
    "            w = max(size)\n",
    "        if min(size) > h:\n",
    "            h = min(size)\n",
    "    answer = w*h\n",
    "    return answer\n",
    "\n",
    "solution([[60, 50], [30, 70], [60, 30], [80, 40]])"
   ]
  },
  {
   "cell_type": "code",
   "execution_count": 7,
   "id": "5c1f7dde",
   "metadata": {},
   "outputs": [
    {
     "name": "stdout",
     "output_type": "stream",
     "text": [
      "['happy', 'merry']\n",
      "['happy', 'merry']\n",
      "(['happy'], ['merry'])\n"
     ]
    },
    {
     "ename": "TypeError",
     "evalue": "unsupported operand type(s) for +: 'int' and 'list'",
     "output_type": "error",
     "traceback": [
      "\u001b[1;31m---------------------------------------------------------------------------\u001b[0m",
      "\u001b[1;31mTypeError\u001b[0m                                 Traceback (most recent call last)",
      "Cell \u001b[1;32mIn[7], line 13\u001b[0m\n\u001b[0;32m     11\u001b[0m \u001b[38;5;28mprint\u001b[39m(\u001b[38;5;28msum\u001b[39m((b,c),[]))\n\u001b[0;32m     12\u001b[0m \u001b[38;5;28mprint\u001b[39m(\u001b[38;5;28msum\u001b[39m([],(b,c)))\n\u001b[1;32m---> 13\u001b[0m \u001b[38;5;28mprint\u001b[39m(\u001b[38;5;28;43msum\u001b[39;49m\u001b[43m(\u001b[49m\u001b[43m(\u001b[49m\u001b[43mb\u001b[49m\u001b[43m,\u001b[49m\u001b[43mc\u001b[49m\u001b[43m)\u001b[49m\u001b[43m)\u001b[49m)\n",
      "\u001b[1;31mTypeError\u001b[0m: unsupported operand type(s) for +: 'int' and 'list'"
     ]
    }
   ],
   "source": [
    "solution = lambda sizes: max(sum(sizes, [])) * max(min(size) for size in sizes)\n",
    "\n",
    "# sum(size,[])\n",
    "# >>> [60, 50, 30, 70, 60, 30, 80, 40]\n",
    "\n",
    "a=[1,2,3,4,5]\n",
    "b=[\"happy\"]\n",
    "c=[\"merry\"]\n",
    "\n",
    "print(b+c)\n",
    "print(sum((b,c),[]))\n",
    "print(sum([],(b,c)))\n",
    "print(sum((b,c)))"
   ]
  },
  {
   "cell_type": "markdown",
   "id": "789d810a",
   "metadata": {},
   "source": [
    "[없는 숫자 더하기](https://school.programmers.co.kr/learn/courses/30/lessons/86051)"
   ]
  },
  {
   "cell_type": "code",
   "execution_count": null,
   "id": "02a91f30",
   "metadata": {},
   "outputs": [],
   "source": [
    "def solution(numbers):\n",
    "    return sum(range(10)) - sum(numbers)"
   ]
  },
  {
   "cell_type": "code",
   "execution_count": 3,
   "id": "9b0532a7",
   "metadata": {},
   "outputs": [
    {
     "data": {
      "text/plain": [
       "14"
      ]
     },
     "execution_count": 3,
     "metadata": {},
     "output_type": "execute_result"
    }
   ],
   "source": [
    "def solution(numbers):\n",
    "    answer = 45 - sum(numbers)\n",
    "    return answer\n",
    "\n",
    "solution([1,2,3,4,6,7,8,0])"
   ]
  },
  {
   "cell_type": "markdown",
   "id": "ef3d0b59",
   "metadata": {},
   "source": [
    "[부족한 금액 계산하기](https://school.programmers.co.kr/learn/courses/30/lessons/82612)"
   ]
  },
  {
   "cell_type": "code",
   "execution_count": null,
   "id": "049c6c30",
   "metadata": {},
   "outputs": [],
   "source": [
    "def solution(price, money, count):\n",
    "    return max(0, money-count*(count+1)*(1/2)*price)"
   ]
  },
  {
   "cell_type": "code",
   "execution_count": null,
   "id": "475dc13f",
   "metadata": {},
   "outputs": [],
   "source": [
    "def solution(price, money, count):\n",
    "    fee = count*(count+1)*(1/2)*price\n",
    "\n",
    "    return fee-money if (fee-money)>0 else 0"
   ]
  },
  {
   "cell_type": "markdown",
   "id": "b411309e",
   "metadata": {},
   "source": [
    "[숫자 문자열과 영단어](https://school.programmers.co.kr/learn/courses/30/lessons/81301)"
   ]
  },
  {
   "cell_type": "code",
   "execution_count": null,
   "id": "7edcc8f1",
   "metadata": {},
   "outputs": [],
   "source": [
    "def solution(s):\n",
    "    temp = \"\"\n",
    "    answer = \"\"\n",
    "    numbers={\n",
    "        \"zero\":0,\n",
    "        \"one\":1,\n",
    "        \"two\":2,\n",
    "        \"three\":3,\n",
    "        \"four\":4,\n",
    "        \"five\":5,\n",
    "        \"six\":6,\n",
    "        \"seven\":7,\n",
    "        \"eight\":8,\n",
    "        \"nine\":9\n",
    "    }\n",
    "    for i in s:\n",
    "        if i.isnumeric():\n",
    "            answer += str(i)\n",
    "        else:\n",
    "            temp += i\n",
    "\n",
    "            if temp in numbers:\n",
    "                answer += str(numbers[temp])\n",
    "                temp = \"\"\n",
    "\n",
    "    return int(answer)"
   ]
  },
  {
   "cell_type": "code",
   "execution_count": 11,
   "id": "7603f207",
   "metadata": {},
   "outputs": [
    {
     "name": "stdout",
     "output_type": "stream",
     "text": [
      "1478\n",
      "234567\n"
     ]
    }
   ],
   "source": [
    "def solution(s):\n",
    "    temp = \"\"\n",
    "    answer = \"\"\n",
    "    numbers={\n",
    "        \"zero\":0,\n",
    "        \"one\":1,\n",
    "        \"two\":2,\n",
    "        \"three\":3,\n",
    "        \"four\":4,\n",
    "        \"five\":5,\n",
    "        \"six\":6,\n",
    "        \"seven\":7,\n",
    "        \"eight\":8,\n",
    "        \"nine\":9\n",
    "    }\n",
    "    for i in s:\n",
    "        if i.isnumeric():\n",
    "            answer += str(i)\n",
    "        else:\n",
    "            temp += i\n",
    "\n",
    "            if temp in numbers:\n",
    "                answer += str(numbers[temp])\n",
    "                temp = \"\"\n",
    "\n",
    "    return int(answer)\n",
    "\n",
    "print(solution(\"one4seveneight\"))\n",
    "print(solution(\"23four5six7\"))"
   ]
  },
  {
   "cell_type": "code",
   "execution_count": null,
   "id": "7d1d35d7",
   "metadata": {},
   "outputs": [],
   "source": [
    "# replace(a,b) >>> replace a to b\n",
    "num_dic = {\"zero\":\"0\", \"one\":\"1\", \"two\":\"2\", \"three\":\"3\", \"four\":\"4\", \"five\":\"5\", \"six\":\"6\", \"seven\":\"7\", \"eight\":\"8\", \"nine\":\"9\"}\n",
    "\n",
    "def solution(s):\n",
    "    answer = s\n",
    "    for key, value in num_dic.items():\n",
    "        answer = answer.replace(key, value)\n",
    "    return int(answer)"
   ]
  },
  {
   "cell_type": "markdown",
   "id": "ef12900a",
   "metadata": {},
   "source": [
    "[약수의 개수와 덧셈](https://school.programmers.co.kr/learn/courses/30/lessons/77884)"
   ]
  },
  {
   "cell_type": "code",
   "execution_count": null,
   "id": "91f502c4",
   "metadata": {},
   "outputs": [],
   "source": [
    "def solution(left, right):\n",
    "    answer = 0\n",
    "\n",
    "    for number in range(left, right+1):\n",
    "        div = 0\n",
    "\n",
    "        for i in range(1, int((number**(1/2))+1)):\n",
    "            if number%i == 0:\n",
    "                if i < number//i:\n",
    "                    div += 1\n",
    "                div += 1\n",
    "\n",
    "        if div%2:\n",
    "            answer -= number\n",
    "        else:\n",
    "            answer += number\n",
    "\n",
    "    return answer"
   ]
  },
  {
   "cell_type": "code",
   "execution_count": 3,
   "id": "0f577f35",
   "metadata": {},
   "outputs": [
    {
     "name": "stdout",
     "output_type": "stream",
     "text": [
      "43\n",
      "52\n"
     ]
    }
   ],
   "source": [
    "def solution(left, right):\n",
    "    answer = 0\n",
    "\n",
    "    for number in range(left, right+1):\n",
    "        div = 0\n",
    "\n",
    "        for i in range(1, int((number**(1/2))+1)):\n",
    "            if number%i == 0:\n",
    "                if i < number//i:\n",
    "                    div += 1\n",
    "                div += 1\n",
    "\n",
    "        if div%2:\n",
    "            answer -= number\n",
    "        else:\n",
    "            answer += number\n",
    "\n",
    "    return answer\n",
    "\n",
    "print(solution(13,17))\n",
    "print(solution(24,27))"
   ]
  },
  {
   "cell_type": "code",
   "execution_count": null,
   "id": "58fd268d",
   "metadata": {},
   "outputs": [],
   "source": [
    "# 제곱수는 약수의 개수가 홀수...\n",
    "def solution(left, right):\n",
    "    answer = 0\n",
    "    for i in range(left,right+1):\n",
    "        if int(i**0.5)==i**0.5:\n",
    "            answer -= i\n",
    "        else:\n",
    "            answer += i\n",
    "    return answer"
   ]
  },
  {
   "cell_type": "markdown",
   "id": "1ffd24ab",
   "metadata": {},
   "source": [
    "[로또의 최고 순위와 최저 순위](https://school.programmers.co.kr/learn/courses/30/lessons/77484)"
   ]
  },
  {
   "cell_type": "code",
   "execution_count": null,
   "id": "0ce183b1",
   "metadata": {},
   "outputs": [],
   "source": []
  },
  {
   "cell_type": "code",
   "execution_count": null,
   "id": "36e2c2cf",
   "metadata": {},
   "outputs": [],
   "source": []
  }
 ],
 "metadata": {
  "kernelspec": {
   "display_name": "Python 3 (ipykernel)",
   "language": "python",
   "name": "python3"
  },
  "language_info": {
   "codemirror_mode": {
    "name": "ipython",
    "version": 3
   },
   "file_extension": ".py",
   "mimetype": "text/x-python",
   "name": "python",
   "nbconvert_exporter": "python",
   "pygments_lexer": "ipython3",
   "version": "3.8.17"
  }
 },
 "nbformat": 4,
 "nbformat_minor": 5
}

{
 "cells": [
  {
   "cell_type": "markdown",
   "id": "9dc86c39",
   "metadata": {},
   "source": [
    "[옹알이 (2)](https://school.programmers.co.kr/learn/courses/30/lessons/133499)"
   ]
  },
  {
   "cell_type": "code",
   "execution_count": null,
   "id": "0fb03c9a",
   "metadata": {},
   "outputs": [],
   "source": [
    "def solution(babbling):\n",
    "    keyword = [\"aya\",\"ye\",\"woo\",\"ma\"]\n",
    "    answer = 0\n",
    "\n",
    "    for bab in babbling:\n",
    "        n1 = \"\"\n",
    "        n2 = \"\"\n",
    "        for b in bab:\n",
    "            n1 += b\n",
    "            if n1 in keyword:\n",
    "                if n1==n2: \n",
    "                    break\n",
    "                n2 = n1\n",
    "                n1 = \"\"\n",
    "\n",
    "        if n1 == \"\":\n",
    "            answer += 1\n",
    "\n",
    "    return answer"
   ]
  },
  {
   "cell_type": "code",
   "execution_count": 7,
   "id": "63e84a43",
   "metadata": {},
   "outputs": [
    {
     "name": "stdout",
     "output_type": "stream",
     "text": [
      "2\n",
      "1\n",
      "0\n"
     ]
    },
    {
     "name": "stdout",
     "output_type": "stream",
     "text": [
      "0\n"
     ]
    }
   ],
   "source": [
    "def solution(babbling):\n",
    "    keyword = [\"aya\",\"ye\",\"woo\",\"ma\"]\n",
    "    answer = 0\n",
    "\n",
    "    for bab in babbling:\n",
    "        n1 = \"\"\n",
    "        n2 = \"\"\n",
    "        for b in bab:\n",
    "            n1 += b\n",
    "            if n1 in keyword:\n",
    "                if n1==n2: \n",
    "                    break\n",
    "                n2 = n1\n",
    "                n1 = \"\"\n",
    "\n",
    "        if n1 == \"\":\n",
    "            answer += 1\n",
    "\n",
    "    return answer\n",
    "\n",
    "\n",
    "print(solution([\"ayaye\", \"uuu\", \"yeye\", \"yemawoo\", \"ayaayaa\"]))\n",
    "print(solution([\"aya\", \"yee\", \"u\", \"maa\"]))\n",
    "print(solution([\"yeye\",\"yeye\"]))\n",
    "print(solution([\"ayayemaaye\"]))"
   ]
  },
  {
   "cell_type": "code",
   "execution_count": 5,
   "id": "b42cac19",
   "metadata": {},
   "outputs": [
    {
     "name": "stdout",
     "output_type": "stream",
     "text": [
      "True\n",
      "2\n"
     ]
    }
   ],
   "source": [
    "if \"AA\" in \"BAAJ\":\n",
    "    print(\"BBBBAAJ\".index(\"AA\"))"
   ]
  },
  {
   "cell_type": "code",
   "execution_count": 10,
   "id": "4ec23268",
   "metadata": {},
   "outputs": [
    {
     "name": "stdout",
     "output_type": "stream",
     "text": [
      "hammy\n"
     ]
    },
    {
     "ename": "TypeError",
     "evalue": "replace() argument 2 must be str, not int",
     "output_type": "error",
     "traceback": [
      "\u001b[1;31m---------------------------------------------------------------------------\u001b[0m",
      "\u001b[1;31mTypeError\u001b[0m                                 Traceback (most recent call last)",
      "Cell \u001b[1;32mIn[10], line 13\u001b[0m\n\u001b[0;32m     11\u001b[0m mm\u001b[38;5;241m=\u001b[39m\u001b[38;5;124m\"\u001b[39m\u001b[38;5;124mhappy\u001b[39m\u001b[38;5;124m\"\u001b[39m\n\u001b[0;32m     12\u001b[0m \u001b[38;5;28mprint\u001b[39m(mm\u001b[38;5;241m.\u001b[39mreplace(\u001b[38;5;124m\"\u001b[39m\u001b[38;5;124mpp\u001b[39m\u001b[38;5;124m\"\u001b[39m,\u001b[38;5;124m\"\u001b[39m\u001b[38;5;124mmm\u001b[39m\u001b[38;5;124m\"\u001b[39m))\n\u001b[1;32m---> 13\u001b[0m \u001b[38;5;28mprint\u001b[39m(\u001b[43mmm\u001b[49m\u001b[38;5;241;43m.\u001b[39;49m\u001b[43mreplace\u001b[49m\u001b[43m(\u001b[49m\u001b[38;5;124;43m\"\u001b[39;49m\u001b[38;5;124;43mpp\u001b[39;49m\u001b[38;5;124;43m\"\u001b[39;49m\u001b[43m,\u001b[49m\u001b[38;5;241;43m1\u001b[39;49m\u001b[43m)\u001b[49m)\n",
      "\u001b[1;31mTypeError\u001b[0m: replace() argument 2 must be str, not int"
     ]
    }
   ],
   "source": [
    "def solution(babbling):\n",
    "    answer = 0\n",
    "    for i in babbling:\n",
    "        for j in ['aya','ye','woo','ma']:\n",
    "            if j*2 not in i:\n",
    "                i=i.replace(j,' ')\n",
    "        if len(i.strip())==0:\n",
    "            answer +=1\n",
    "    return answer\n",
    "\n",
    "# replace()\n",
    "mm=\"happy\"\n",
    "print(mm.replace(\"pp\",\"mm\"))\n",
    "print(mm.replace(\"pp\",1))"
   ]
  },
  {
   "cell_type": "markdown",
   "id": "5fd27acc",
   "metadata": {},
   "source": [
    "[콜라 문제](https://school.programmers.co.kr/learn/courses/30/lessons/132267)"
   ]
  },
  {
   "cell_type": "code",
   "execution_count": null,
   "id": "af0c3da4",
   "metadata": {},
   "outputs": [],
   "source": [
    "def solution(a, b, n):\n",
    "    answer = 0\n",
    "    while True:\n",
    "        answer += (n//a)*b\n",
    "        n = (n//a)*b + n%a\n",
    "        if n < a:\n",
    "            break\n",
    "    return answer"
   ]
  },
  {
   "cell_type": "code",
   "execution_count": 13,
   "id": "472ca152",
   "metadata": {},
   "outputs": [
    {
     "name": "stdout",
     "output_type": "stream",
     "text": [
      "19\n",
      "9\n",
      "6\n",
      "36\n"
     ]
    }
   ],
   "source": [
    "def solution(a, b, n):\n",
    "    answer = 0\n",
    "    while True:\n",
    "        answer += (n//a)*b\n",
    "        n = (n//a)*b + n%a\n",
    "        if n < a:\n",
    "            break\n",
    "    return answer\n",
    "\n",
    "print(solution(2,1,20))\n",
    "print(solution(3,1,20))\n",
    "print(solution(4,1,20))\n",
    "print(solution(3,2,20))"
   ]
  },
  {
   "cell_type": "code",
   "execution_count": null,
   "id": "e618b7ca",
   "metadata": {},
   "outputs": [],
   "source": [
    "solution = lambda a, b, n: max(n - b, 0) // (a - b) * b"
   ]
  },
  {
   "cell_type": "markdown",
   "id": "789d810a",
   "metadata": {},
   "source": [
    "[삼총사](https://school.programmers.co.kr/learn/courses/30/lessons/131705)"
   ]
  },
  {
   "cell_type": "code",
   "execution_count": null,
   "id": "02a91f30",
   "metadata": {},
   "outputs": [],
   "source": [
    "def solution(number):\n",
    "    answer=0\n",
    "    for first in range(len(number)):\n",
    "        for second in range(first+1,len(number)):\n",
    "            for third in range(second+1,len(number)):\n",
    "                n = number[first] + number[second] + number[third]\n",
    "                if n == 0:\n",
    "                    answer += 1\n",
    "\n",
    "    return answer"
   ]
  },
  {
   "cell_type": "code",
   "execution_count": 6,
   "id": "9b0532a7",
   "metadata": {},
   "outputs": [
    {
     "name": "stdout",
     "output_type": "stream",
     "text": [
      "2\n",
      "5\n",
      "0\n"
     ]
    }
   ],
   "source": [
    "def solution(number):\n",
    "    answer=0\n",
    "    for first in range(len(number)):\n",
    "        for second in range(first+1,len(number)):\n",
    "            for third in range(second+1,len(number)):\n",
    "                n = number[first] + number[second] + number[third]\n",
    "                if n == 0:\n",
    "                    answer += 1\n",
    "\n",
    "    return answer\n",
    "\n",
    "print(solution([-2,3,0,2,-5]))\n",
    "print(solution([-3,-2,-1,0,1,2,3]))\n",
    "print(solution([-1,1,-1,1]))"
   ]
  },
  {
   "cell_type": "code",
   "execution_count": 8,
   "id": "886ed02e",
   "metadata": {},
   "outputs": [],
   "source": [
    "def solution (number) :\n",
    "    from itertools import combinations\n",
    "    cnt = 0\n",
    "    for i in combinations(number,3) :\n",
    "        if sum(i) == 0 :\n",
    "            cnt += 1\n",
    "    return cnt"
   ]
  },
  {
   "cell_type": "markdown",
   "id": "ef3d0b59",
   "metadata": {},
   "source": [
    "[숫자 짝꿍](https://school.programmers.co.kr/learn/courses/30/lessons/131128)"
   ]
  },
  {
   "cell_type": "code",
   "execution_count": null,
   "id": "049c6c30",
   "metadata": {},
   "outputs": [],
   "source": [
    "def solution(X, Y):\n",
    "    answer = \"\"\n",
    "    x_dict = {str(i): 0 for i in range(10)}\n",
    "    \n",
    "    for xx in X:\n",
    "        x_dict[xx] += 1\n",
    "\n",
    "    for yy in Y:\n",
    "        if x_dict[yy] > 0:\n",
    "            x_dict[yy] -= 1\n",
    "            answer += yy\n",
    "\n",
    "    if answer == \"\":\n",
    "        return \"-1\"\n",
    "    elif all(i == \"0\" for i in answer):\n",
    "        return \"0\"\n",
    "    else:\n",
    "        return ''.join(sorted(answer, reverse=True))"
   ]
  },
  {
   "cell_type": "code",
   "execution_count": 1,
   "id": "475dc13f",
   "metadata": {},
   "outputs": [
    {
     "name": "stdout",
     "output_type": "stream",
     "text": [
      "-1\n",
      "0\n",
      "5211\n",
      "321\n",
      "552\n"
     ]
    }
   ],
   "source": [
    "# 시간초과 / 살려냄\n",
    "# 비정상적인 길이를 int로 바꾸는 것은 시간이 많이 걸림\n",
    "def solution(X, Y):\n",
    "    answer = \"\"\n",
    "    x_dict = {str(i): 0 for i in range(10)}\n",
    "    \n",
    "    for xx in X:\n",
    "        x_dict[xx] += 1\n",
    "\n",
    "    for yy in Y:\n",
    "        if x_dict[yy] > 0:\n",
    "            x_dict[yy] -= 1\n",
    "            answer += yy\n",
    "\n",
    "    if answer == \"\":\n",
    "        return \"-1\"\n",
    "    elif all(i == \"0\" for i in answer):\n",
    "#   elif int(answer) == 0:  >>시간초과\n",
    "        return \"0\"\n",
    "    else:\n",
    "        return ''.join(sorted(answer, reverse=True))\n",
    "\n",
    "print(solution(\"100\",\"2345\"))\n",
    "print(solution(\"100\",\"203045\"))\n",
    "print(solution(\"15122\",\"11152\"))\n",
    "print(solution(\"12321\",\"42531\"))\n",
    "print(solution(\"5525\",\"1255\"))"
   ]
  },
  {
   "cell_type": "code",
   "execution_count": null,
   "id": "99b361eb",
   "metadata": {},
   "outputs": [],
   "source": [
    "# 대부분 count로 시간복잡도를 줄임.\n",
    "# count(i)할 때 마다 결국 한 번 순회하는 거 아닌가.. 왜 시간 복잡도가 적게 나오지..\n",
    "def solution(X, Y):\n",
    "    answer = ''\n",
    "\n",
    "    for i in range(9,-1,-1) :\n",
    "        answer += (str(i) * min(X.count(str(i)), Y.count(str(i))))\n",
    "\n",
    "    if answer == '' :\n",
    "        return '-1'\n",
    "    elif len(answer) == answer.count('0'):\n",
    "        return '0'\n",
    "    else :\n",
    "        return answer"
   ]
  },
  {
   "cell_type": "code",
   "execution_count": 8,
   "id": "4bd5b38e",
   "metadata": {},
   "outputs": [
    {
     "name": "stdout",
     "output_type": "stream",
     "text": [
      "hay\n"
     ]
    }
   ],
   "source": [
    "y = \"happy\"\n",
    "y=y.replace(\"p\",\"\")\n",
    "print(y)"
   ]
  },
  {
   "cell_type": "markdown",
   "id": "b411309e",
   "metadata": {},
   "source": [
    "[성격 유형 검사하기](https://school.programmers.co.kr/learn/courses/30/lessons/118666)"
   ]
  },
  {
   "cell_type": "code",
   "execution_count": null,
   "id": "7edcc8f1",
   "metadata": {},
   "outputs": [],
   "source": [
    "def solution(survey, choices):\n",
    "    score = {\"RT\":0, \"CF\":0, \"JM\":0, \"AN\":0}\n",
    "\n",
    "    for i, choice in enumerate(choices):\n",
    "        if choice > 3:\n",
    "            if survey[i] in score:\n",
    "                score[survey[i]] += (4-choice)\n",
    "            else: \n",
    "                score[survey[i][::-1]] -= (4-choice)\n",
    "        else: \n",
    "            if survey[i] in score:\n",
    "                score[survey[i]] += (4-choice)\n",
    "            else: \n",
    "                score[survey[i][::-1]] -= (4-choice)\n",
    "    \n",
    "    \n",
    "    answer = ''\n",
    "    for x,y in score.items():\n",
    "        if y<0:\n",
    "            answer += x[1]\n",
    "        else:\n",
    "            answer += x[0]\n",
    "\n",
    "    return answer"
   ]
  },
  {
   "cell_type": "code",
   "execution_count": 11,
   "id": "7603f207",
   "metadata": {},
   "outputs": [
    {
     "name": "stdout",
     "output_type": "stream",
     "text": [
      "TCMA\n",
      "RCJA\n"
     ]
    }
   ],
   "source": [
    "def solution(survey, choices):\n",
    "    score = {\"RT\":0, \"CF\":0, \"JM\":0, \"AN\":0}\n",
    "\n",
    "    for i, choice in enumerate(choices):\n",
    "        if choice > 3:\n",
    "            if survey[i] in score:\n",
    "                score[survey[i]] -= (choice-4)\n",
    "            else: \n",
    "                score[survey[i][::-1]] += (choice-4)\n",
    "        else: \n",
    "            if survey[i] in score:\n",
    "                score[survey[i]] += (4-choice)\n",
    "            else: \n",
    "                score[survey[i][::-1]] -= (4-choice)\n",
    "    \n",
    "    \n",
    "    answer = ''\n",
    "    for x,y in score.items():\n",
    "        if y<0:\n",
    "            answer += x[1]\n",
    "        else:\n",
    "            answer += x[0]\n",
    "\n",
    "    return answer\n",
    "\n",
    "print(solution([\"AN\", \"CF\", \"MJ\", \"RT\", \"NA\"],[5, 3, 2, 7, 5]\t))\n",
    "print(solution([\"TR\", \"RT\", \"TR\"],[7, 1, 3]))\n",
    "# print(solution())"
   ]
  },
  {
   "cell_type": "markdown",
   "id": "ef12900a",
   "metadata": {},
   "source": [
    "[신고 결과 받기](https://school.programmers.co.kr/learn/courses/30/lessons/92334)"
   ]
  },
  {
   "cell_type": "code",
   "execution_count": null,
   "id": "91f502c4",
   "metadata": {},
   "outputs": [],
   "source": [
    "def solution(id_list, report, k):\n",
    "    id_dict = {i:set() for i in id_list}\n",
    "    answer_dict = {i:0 for i in id_list}\n",
    "    \n",
    "    for rep in report:\n",
    "        x,y = rep.split()\n",
    "        id_dict[y].add(x)\n",
    "        \n",
    "    for id_val in id_dict.values():\n",
    "        if len(id_val) >= k:\n",
    "            for name in id_val:\n",
    "                answer_dict[name] += 1\n",
    "    \n",
    "    answer = list(answer_dict.values())\n",
    "    \n",
    "    return answer\n"
   ]
  },
  {
   "cell_type": "code",
   "execution_count": 10,
   "id": "0f577f35",
   "metadata": {},
   "outputs": [
    {
     "name": "stdout",
     "output_type": "stream",
     "text": [
      "[2, 1, 1, 0]\n"
     ]
    }
   ],
   "source": [
    "def solution(id_list, report, k):\n",
    "    id_dict = {i:set() for i in id_list}\n",
    "    answer_dict = {i:0 for i in id_list}\n",
    "    \n",
    "    for rep in report:\n",
    "        x,y = rep.split()\n",
    "        id_dict[y].add(x)\n",
    "        \n",
    "    for id_val in id_dict.values():\n",
    "        if len(id_val) >= k:\n",
    "            for name in id_val:\n",
    "                answer_dict[name] += 1\n",
    "    \n",
    "    answer = list(answer_dict.values())\n",
    "    \n",
    "    return answer\n",
    "\n",
    "print(solution([\"muzi\", \"frodo\", \"apeach\", \"neo\"],\t[\"muzi frodo\",\"apeach frodo\",\"frodo neo\",\"muzi neo\",\"apeach muzi\"],\t2))"
   ]
  },
  {
   "cell_type": "code",
   "execution_count": null,
   "id": "5a50ca45",
   "metadata": {},
   "outputs": [],
   "source": [
    "# 느리긴한데 생각하지 못한 방법...\n",
    "def solution(id_list, report, k):\n",
    "    # 동일한 원소로 이루어진 배열 만들기\n",
    "    answer = [0] * len(id_list)    \n",
    "    reports = {x : 0 for x in id_list}\n",
    "    \n",
    "    # for문을 돌릴 때 집합으로 변환 후 돌리기\n",
    "    for r in set(report):\n",
    "        reports[r.split()[1]] += 1\n",
    "\n",
    "    # repeort문을 다시 돌림으로써 내부 원소 내용 구하기\n",
    "    for r in set(report):\n",
    "        if reports[r.split()[1]] >= k:\n",
    "            answer[id_list.index(r.split()[0])] += 1\n",
    "\n",
    "    return answer"
   ]
  },
  {
   "cell_type": "markdown",
   "id": "1ffd24ab",
   "metadata": {},
   "source": [
    "[나머지가 1이 되는 수 찾기](https://school.programmers.co.kr/learn/courses/30/lessons/87389)"
   ]
  },
  {
   "cell_type": "code",
   "execution_count": 3,
   "id": "b4f60a6d",
   "metadata": {},
   "outputs": [],
   "source": [
    "def solution(n):\n",
    "    for m in range(1,n):\n",
    "        if n % m == 1:\n",
    "            return m"
   ]
  },
  {
   "cell_type": "code",
   "execution_count": 1,
   "id": "36e2c2cf",
   "metadata": {},
   "outputs": [
    {
     "name": "stdout",
     "output_type": "stream",
     "text": [
      "3\n",
      "11\n"
     ]
    }
   ],
   "source": [
    "def solution(n):\n",
    "    for m in range(2,n):\n",
    "        if (n-1) % m == 0:\n",
    "            return m\n",
    "    \n",
    "print(solution(10))\n",
    "print(solution(12))"
   ]
  },
  {
   "cell_type": "code",
   "execution_count": null,
   "id": "24e02bed",
   "metadata": {},
   "outputs": [],
   "source": [
    "def solution(n):\n",
    "    return [m for m in range(1,n) if n % m == 1][0]"
   ]
  },
  {
   "cell_type": "markdown",
   "id": "9ed03708",
   "metadata": {},
   "source": [
    "SQL: [과일로 만든 아이스크림 고르기](https://school.programmers.co.kr/learn/courses/30/lessons/133025)"
   ]
  },
  {
   "cell_type": "code",
   "execution_count": null,
   "id": "6a47d0cc",
   "metadata": {},
   "outputs": [],
   "source": []
  },
  {
   "cell_type": "markdown",
   "id": "47fa2a99",
   "metadata": {},
   "source": [
    "SQL: [인기있는 아이스크림](https://school.programmers.co.kr/learn/courses/30/lessons/133024)"
   ]
  },
  {
   "cell_type": "code",
   "execution_count": null,
   "id": "7051fd8a",
   "metadata": {},
   "outputs": [],
   "source": []
  },
  {
   "cell_type": "markdown",
   "id": "2e44412f",
   "metadata": {},
   "source": [
    "SQL: [흉부외과 또는 일반외과 의사 목록 출력하기](https://school.programmers.co.kr/learn/courses/30/lessons/132203)"
   ]
  },
  {
   "cell_type": "code",
   "execution_count": null,
   "id": "0db130fc",
   "metadata": {},
   "outputs": [],
   "source": []
  },
  {
   "cell_type": "markdown",
   "id": "f51c00ed",
   "metadata": {},
   "source": [
    "SQL: [12세 이하인 여자 환자 목록 출력하기](https://school.programmers.co.kr/learn/courses/30/lessons/132201)"
   ]
  },
  {
   "cell_type": "code",
   "execution_count": null,
   "id": "432a0cdb",
   "metadata": {},
   "outputs": [],
   "source": []
  },
  {
   "cell_type": "markdown",
   "id": "25cf2ade",
   "metadata": {},
   "source": [
    "SQL: [가장 비싼 상품 구하기](https://school.programmers.co.kr/learn/courses/30/lessons/131697)"
   ]
  },
  {
   "cell_type": "code",
   "execution_count": null,
   "id": "36344c6e",
   "metadata": {},
   "outputs": [],
   "source": []
  },
  {
   "cell_type": "markdown",
   "id": "01c13cce",
   "metadata": {},
   "source": [
    "SQL: [조건에 맞는 회원수 구하기](https://school.programmers.co.kr/learn/courses/30/lessons/131535)"
   ]
  },
  {
   "cell_type": "code",
   "execution_count": null,
   "id": "cb6cdcb2",
   "metadata": {},
   "outputs": [],
   "source": []
  },
  {
   "cell_type": "markdown",
   "id": "b7a6f38e",
   "metadata": {},
   "source": [
    "SQL: [나이 정보가 없는 회원 수 구하기](https://school.programmers.co.kr/learn/courses/30/lessons/131528)"
   ]
  },
  {
   "cell_type": "code",
   "execution_count": null,
   "id": "f518fd26",
   "metadata": {},
   "outputs": [],
   "source": []
  },
  {
   "cell_type": "markdown",
   "id": "84a8fe14",
   "metadata": {},
   "source": [
    "SQL: [경기도에 위치한 식품창고 목록 출력하기](https://school.programmers.co.kr/learn/courses/30/lessons/131114)"
   ]
  },
  {
   "cell_type": "code",
   "execution_count": null,
   "id": "6b27a328",
   "metadata": {},
   "outputs": [],
   "source": []
  },
  {
   "cell_type": "markdown",
   "id": "05237ab7",
   "metadata": {},
   "source": [
    "SQL: [강원도에 위치한 생산공장 목록 출력하기](https://school.programmers.co.kr/learn/courses/30/lessons/131112)"
   ]
  },
  {
   "cell_type": "code",
   "execution_count": null,
   "id": "ab7d2d0a",
   "metadata": {},
   "outputs": [],
   "source": []
  }
 ],
 "metadata": {
  "kernelspec": {
   "display_name": "Python 3 (ipykernel)",
   "language": "python",
   "name": "python3"
  },
  "language_info": {
   "codemirror_mode": {
    "name": "ipython",
    "version": 3
   },
   "file_extension": ".py",
   "mimetype": "text/x-python",
   "name": "python",
   "nbconvert_exporter": "python",
   "pygments_lexer": "ipython3",
   "version": "3.8.17"
  }
 },
 "nbformat": 4,
 "nbformat_minor": 5
}

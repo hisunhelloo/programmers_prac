{
 "cells": [
  {
   "cell_type": "markdown",
   "id": "9dc86c39",
   "metadata": {},
   "source": [
    "[실패율](https://school.programmers.co.kr/learn/courses/30/lessons/42889)"
   ]
  },
  {
   "cell_type": "code",
   "execution_count": null,
   "id": "0fb03c9a",
   "metadata": {},
   "outputs": [],
   "source": [
    "def solution(N, stages):\n",
    "    answer = []\n",
    "    total = len(stages)\n",
    "    for i in range(N):\n",
    "        x = stages.count(i+1)\n",
    "        if total == 0:\n",
    "            answer.append((i+1, 0))\n",
    "            continue\n",
    "        answer.append((i+1, x/total))\n",
    "        total -= x\n",
    "    answer.sort(key=lambda x: x[1], reverse=True)\n",
    "    answer = [i[0] for i in answer]\n",
    "    return answer"
   ]
  },
  {
   "cell_type": "code",
   "execution_count": 14,
   "id": "63e84a43",
   "metadata": {},
   "outputs": [
    {
     "data": {
      "text/plain": [
       "[6, 3, 4, 2, 1, 5, 7, 8]"
      ]
     },
     "execution_count": 14,
     "metadata": {},
     "output_type": "execute_result"
    }
   ],
   "source": [
    "def solution(N, stages):\n",
    "    answer = []\n",
    "    total = len(stages)\n",
    "    for i in range(N):\n",
    "        x = stages.count(i+1)\n",
    "        if total == 0:\n",
    "            answer.append((i+1, 0))\n",
    "            continue\n",
    "        answer.append((i+1, x/total))\n",
    "        total -= x\n",
    "    answer.sort(key=lambda x: x[1], reverse=True)\n",
    "    answer = [i[0] for i in answer]\n",
    "    return answer\n",
    "solution(8,\t[2, 1, 2, 6, 2, 4, 3, 3])"
   ]
  },
  {
   "cell_type": "markdown",
   "id": "5fd27acc",
   "metadata": {},
   "source": [
    "[체육복](https://school.programmers.co.kr/learn/courses/30/lessons/42862)"
   ]
  },
  {
   "cell_type": "code",
   "execution_count": null,
   "id": "af0c3da4",
   "metadata": {},
   "outputs": [],
   "source": [
    "def solution(n, lost, reserve):\n",
    "    answer = n\n",
    "    new_lost = []\n",
    "    reserve.sort()\n",
    "    for i in lost:\n",
    "        if i in reserve:\n",
    "            reserve.remove(i)\n",
    "        else:\n",
    "            new_lost.append(i)\n",
    "\n",
    "    new_lost.sort()\n",
    "            \n",
    "    for i in new_lost:\n",
    "        if i-1 in reserve:\n",
    "            reserve.remove(i-1)\n",
    "        elif i+1 in reserve:\n",
    "            reserve.remove(i+1)\n",
    "        else:\n",
    "            answer -= 1\n",
    "\n",
    "    return answer"
   ]
  },
  {
   "cell_type": "code",
   "execution_count": 19,
   "id": "472ca152",
   "metadata": {},
   "outputs": [
    {
     "name": "stdout",
     "output_type": "stream",
     "text": [
      "3\n",
      "4\n",
      "5\n"
     ]
    },
    {
     "name": "stdout",
     "output_type": "stream",
     "text": [
      "5\n"
     ]
    }
   ],
   "source": [
    "def solution(n, lost, reserve):\n",
    "    answer = n\n",
    "    new_lost = []\n",
    "    reserve.sort()\n",
    "    for i in lost:\n",
    "        if i in reserve:\n",
    "            reserve.remove(i)\n",
    "        else:\n",
    "            new_lost.append(i)\n",
    "\n",
    "    new_lost.sort()\n",
    "            \n",
    "    for i in new_lost:\n",
    "        if i-1 in reserve:\n",
    "            reserve.remove(i-1)\n",
    "        elif i+1 in reserve:\n",
    "            reserve.remove(i+1)\n",
    "        else:\n",
    "            answer -= 1\n",
    "\n",
    "    return answer\n",
    "\n",
    "print(solution(4,[2,3],[3,4])) # 3\n",
    "print(solution(5,[2, 4],[3])) # 4\n",
    "print(solution(5,[4,2],[3,5])) # 5\n",
    "print(solution(6,[3,4,5],[3,4,6])) #"
   ]
  },
  {
   "cell_type": "code",
   "execution_count": null,
   "id": "7466d28a",
   "metadata": {},
   "outputs": [],
   "source": [
    "# 이게 더 느리네..\n",
    "def solution(n, lost, reserve):\n",
    "    reserved = 0\n",
    "    lostN = list(set(lost) - set(reserve))\n",
    "    reserveN = list(set(reserve) - set(lost))\n",
    "    lostN.sort()\n",
    "    for l in lostN:\n",
    "        for x in range(l-1, l+2):\n",
    "            if x in reserveN:\n",
    "                reserveN.remove(x)\n",
    "                reserved += 1\n",
    "                break\n",
    "    return n - len(lostN) + reserved"
   ]
  },
  {
   "cell_type": "code",
   "execution_count": null,
   "id": "c4e20fc2",
   "metadata": {},
   "outputs": [],
   "source": [
    "'''\n",
    "1. 인덱스로 다룰 때 양 끝단 원소의 인덱스 처리 유의하기\n",
    "    >인덱싱 에러를 피하기위해서는 반복문 안에서 처리를 하여 디버깅에 유리하게 만들기.\n",
    "2. 리스트 삭제 연산: \n",
    "    >[1,2,3] 리스트 반복문은 list[i] 형태로 처리되므로 1을 삭제하면 그 다음에 나오는 숫자는 3이다.\n",
    "    >실수를 피하기 위해 새로운 배열을 만드는 것도 좋은 방법!\n",
    "3. 때로는 하나의 반복문에서 모든 것을 처리하는 것은 적절하기 못함.\n",
    "    오류가 생기기 쉽고 디버깅이 어렵기 때문.\n",
    "'''"
   ]
  },
  {
   "cell_type": "markdown",
   "id": "789d810a",
   "metadata": {},
   "source": [
    "[모의고사](https://school.programmers.co.kr/learn/courses/30/lessons/42840)"
   ]
  },
  {
   "cell_type": "code",
   "execution_count": null,
   "id": "02a91f30",
   "metadata": {},
   "outputs": [],
   "source": []
  },
  {
   "cell_type": "code",
   "execution_count": null,
   "id": "9b0532a7",
   "metadata": {},
   "outputs": [],
   "source": []
  },
  {
   "cell_type": "markdown",
   "id": "ef3d0b59",
   "metadata": {},
   "source": [
    "[K번째수](https://school.programmers.co.kr/learn/courses/30/lessons/42748)"
   ]
  },
  {
   "cell_type": "code",
   "execution_count": null,
   "id": "049c6c30",
   "metadata": {},
   "outputs": [],
   "source": []
  },
  {
   "cell_type": "code",
   "execution_count": null,
   "id": "475dc13f",
   "metadata": {},
   "outputs": [],
   "source": []
  },
  {
   "cell_type": "markdown",
   "id": "b411309e",
   "metadata": {},
   "source": [
    "[완주하지 못한 선수](https://school.programmers.co.kr/learn/courses/30/lessons/42576)"
   ]
  },
  {
   "cell_type": "code",
   "execution_count": null,
   "id": "7edcc8f1",
   "metadata": {},
   "outputs": [],
   "source": []
  },
  {
   "cell_type": "code",
   "execution_count": null,
   "id": "7603f207",
   "metadata": {},
   "outputs": [],
   "source": []
  },
  {
   "cell_type": "markdown",
   "id": "ef12900a",
   "metadata": {},
   "source": [
    "[[1차] 다트 게임](https://school.programmers.co.kr/learn/courses/30/lessons/17682)"
   ]
  },
  {
   "cell_type": "code",
   "execution_count": null,
   "id": "91f502c4",
   "metadata": {},
   "outputs": [],
   "source": []
  },
  {
   "cell_type": "code",
   "execution_count": null,
   "id": "0f577f35",
   "metadata": {},
   "outputs": [],
   "source": []
  },
  {
   "cell_type": "markdown",
   "id": "1ffd24ab",
   "metadata": {},
   "source": [
    "[[1차] 비밀지도](https://school.programmers.co.kr/learn/courses/30/lessons/17681)"
   ]
  },
  {
   "cell_type": "code",
   "execution_count": null,
   "id": "0ce183b1",
   "metadata": {},
   "outputs": [],
   "source": []
  },
  {
   "cell_type": "code",
   "execution_count": null,
   "id": "36e2c2cf",
   "metadata": {},
   "outputs": [],
   "source": []
  },
  {
   "cell_type": "markdown",
   "id": "028c8a88",
   "metadata": {},
   "source": [
    "SQL: [최댓값 구하기](https://school.programmers.co.kr/learn/courses/30/lessons/59415)"
   ]
  },
  {
   "cell_type": "code",
   "execution_count": null,
   "id": "25635334",
   "metadata": {},
   "outputs": [],
   "source": []
  },
  {
   "cell_type": "markdown",
   "id": "b6f705fe",
   "metadata": {},
   "source": [
    "SQL: [이름이 있는 동물의 아이디](https://school.programmers.co.kr/learn/courses/30/lessons/59407)"
   ]
  },
  {
   "cell_type": "code",
   "execution_count": null,
   "id": "847f1ad6",
   "metadata": {},
   "outputs": [],
   "source": []
  },
  {
   "cell_type": "markdown",
   "id": "6b097aea",
   "metadata": {},
   "source": [
    "SQL: [상위 n개 레코드](https://school.programmers.co.kr/learn/courses/30/lessons/59405)"
   ]
  },
  {
   "cell_type": "code",
   "execution_count": null,
   "id": "18f72e74",
   "metadata": {},
   "outputs": [],
   "source": []
  },
  {
   "cell_type": "markdown",
   "id": "9373a91d",
   "metadata": {},
   "source": [
    "SQL: [여러 기준으로 정렬하기](https://school.programmers.co.kr/learn/courses/30/lessons/59404)"
   ]
  },
  {
   "cell_type": "code",
   "execution_count": null,
   "id": "de751e3d",
   "metadata": {},
   "outputs": [],
   "source": []
  },
  {
   "cell_type": "markdown",
   "id": "f935d9fb",
   "metadata": {},
   "source": [
    "SQL: [동물의 아이디와 이름](https://school.programmers.co.kr/learn/courses/30/lessons/59403)"
   ]
  },
  {
   "cell_type": "code",
   "execution_count": null,
   "id": "e19a26ae",
   "metadata": {},
   "outputs": [],
   "source": []
  },
  {
   "cell_type": "markdown",
   "id": "1b87c4f2",
   "metadata": {},
   "source": [
    "SQL: [이름이 없는 동물의 아이디](https://school.programmers.co.kr/learn/courses/30/lessons/59039)"
   ]
  },
  {
   "cell_type": "code",
   "execution_count": null,
   "id": "38bd5b8f",
   "metadata": {},
   "outputs": [],
   "source": []
  },
  {
   "cell_type": "markdown",
   "id": "103b3ed9",
   "metadata": {},
   "source": [
    "SQL: [어린 동물 찾기](https://school.programmers.co.kr/learn/courses/30/lessons/59037)"
   ]
  },
  {
   "cell_type": "code",
   "execution_count": null,
   "id": "4db3ab07",
   "metadata": {},
   "outputs": [],
   "source": []
  },
  {
   "cell_type": "markdown",
   "id": "71103c14",
   "metadata": {},
   "source": [
    "SQL: [아픈 동물 찾기](https://school.programmers.co.kr/learn/courses/30/lessons/59036)"
   ]
  },
  {
   "cell_type": "code",
   "execution_count": null,
   "id": "2f988540",
   "metadata": {},
   "outputs": [],
   "source": []
  },
  {
   "cell_type": "markdown",
   "id": "80813212",
   "metadata": {},
   "source": [
    "SQL: [역순 정렬하기](https://school.programmers.co.kr/learn/courses/30/lessons/59035)"
   ]
  },
  {
   "cell_type": "code",
   "execution_count": null,
   "id": "7618a833",
   "metadata": {},
   "outputs": [],
   "source": []
  },
  {
   "cell_type": "markdown",
   "id": "8f798c60",
   "metadata": {},
   "source": [
    "SQL: [모든 레코드 조회하기](https://school.programmers.co.kr/learn/courses/30/lessons/59034d)"
   ]
  },
  {
   "cell_type": "code",
   "execution_count": null,
   "id": "3af71a9b",
   "metadata": {},
   "outputs": [],
   "source": []
  }
 ],
 "metadata": {
  "kernelspec": {
   "display_name": "Python 3 (ipykernel)",
   "language": "python",
   "name": "python3"
  },
  "language_info": {
   "codemirror_mode": {
    "name": "ipython",
    "version": 3
   },
   "file_extension": ".py",
   "mimetype": "text/x-python",
   "name": "python",
   "nbconvert_exporter": "python",
   "pygments_lexer": "ipython3",
   "version": "3.11.4"
  }
 },
 "nbformat": 4,
 "nbformat_minor": 5
}

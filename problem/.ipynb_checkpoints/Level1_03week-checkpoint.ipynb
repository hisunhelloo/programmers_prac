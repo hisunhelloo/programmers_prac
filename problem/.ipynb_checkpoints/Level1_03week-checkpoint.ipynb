{
 "cells": [
  {
   "cell_type": "markdown",
   "id": "9dc86c39",
   "metadata": {},
   "source": [
    "[가장 가까운 같은 글자](https://school.programmers.co.kr/learn/courses/30/lessons/142086)"
   ]
  },
  {
   "cell_type": "code",
   "execution_count": null,
   "id": "0fb03c9a",
   "metadata": {},
   "outputs": [],
   "source": []
  },
  {
   "cell_type": "code",
   "execution_count": null,
   "id": "63e84a43",
   "metadata": {},
   "outputs": [],
   "source": []
  },
  {
   "cell_type": "markdown",
   "id": "5fd27acc",
   "metadata": {},
   "source": [
    "[문자열 나누기](https://school.programmers.co.kr/learn/courses/30/lessons/140108)"
   ]
  },
  {
   "cell_type": "code",
   "execution_count": null,
   "id": "af0c3da4",
   "metadata": {},
   "outputs": [],
   "source": []
  },
  {
   "cell_type": "code",
   "execution_count": null,
   "id": "472ca152",
   "metadata": {},
   "outputs": [],
   "source": []
  },
  {
   "cell_type": "markdown",
   "id": "789d810a",
   "metadata": {},
   "source": [
    "[명예의 전당 (1)](https://school.programmers.co.kr/learn/courses/30/lessons/138477)"
   ]
  },
  {
   "cell_type": "code",
   "execution_count": null,
   "id": "02a91f30",
   "metadata": {},
   "outputs": [],
   "source": []
  },
  {
   "cell_type": "code",
   "execution_count": null,
   "id": "9b0532a7",
   "metadata": {},
   "outputs": [],
   "source": []
  },
  {
   "cell_type": "markdown",
   "id": "ef3d0b59",
   "metadata": {},
   "source": [
    "[기사단원의 무기](https://school.programmers.co.kr/learn/courses/30/lessons/136798)"
   ]
  },
  {
   "cell_type": "code",
   "execution_count": null,
   "id": "049c6c30",
   "metadata": {},
   "outputs": [],
   "source": []
  },
  {
   "cell_type": "code",
   "execution_count": null,
   "id": "475dc13f",
   "metadata": {},
   "outputs": [],
   "source": []
  },
  {
   "cell_type": "markdown",
   "id": "b411309e",
   "metadata": {},
   "source": [
    "[과일 장수](https://school.programmers.co.kr/learn/courses/30/lessons/135808)"
   ]
  },
  {
   "cell_type": "code",
   "execution_count": null,
   "id": "7edcc8f1",
   "metadata": {},
   "outputs": [],
   "source": []
  },
  {
   "cell_type": "code",
   "execution_count": null,
   "id": "7603f207",
   "metadata": {},
   "outputs": [],
   "source": []
  },
  {
   "cell_type": "markdown",
   "id": "ef12900a",
   "metadata": {},
   "source": [
    "[푸드 파이트 대회](https://school.programmers.co.kr/learn/courses/30/lessons/134240)"
   ]
  },
  {
   "cell_type": "code",
   "execution_count": null,
   "id": "91f502c4",
   "metadata": {},
   "outputs": [],
   "source": []
  },
  {
   "cell_type": "code",
   "execution_count": null,
   "id": "0f577f35",
   "metadata": {},
   "outputs": [],
   "source": []
  },
  {
   "cell_type": "markdown",
   "id": "1ffd24ab",
   "metadata": {},
   "source": [
    "[햄버거 만들기](https://school.programmers.co.kr/learn/courses/30/lessons/133502)"
   ]
  },
  {
   "cell_type": "code",
   "execution_count": null,
   "id": "0ce183b1",
   "metadata": {},
   "outputs": [],
   "source": []
  },
  {
   "cell_type": "code",
   "execution_count": null,
   "id": "36e2c2cf",
   "metadata": {},
   "outputs": [],
   "source": []
  },
  {
   "cell_type": "markdown",
   "id": "617ca937",
   "metadata": {},
   "source": [
    "SQL: [특정 옵션이 포함된 자동차 리스트 구하기](https://school.programmers.co.kr/learn/courses/30/lessons/157343)"
   ]
  },
  {
   "cell_type": "code",
   "execution_count": null,
   "id": "03f1ba7a",
   "metadata": {},
   "outputs": [],
   "source": []
  },
  {
   "cell_type": "markdown",
   "id": "7c61183f",
   "metadata": {},
   "source": [
    "SQL: [자동차 대여 기록에서 장기/단기 대여 구분하기](https://school.programmers.co.kr/learn/courses/30/lessons/151138)"
   ]
  },
  {
   "cell_type": "code",
   "execution_count": null,
   "id": "bfe0fbd9",
   "metadata": {},
   "outputs": [],
   "source": []
  },
  {
   "cell_type": "markdown",
   "id": "7951cc80",
   "metadata": {},
   "source": [
    "SQL: [평균 일일 대여 요금 구하기](https://school.programmers.co.kr/learn/courses/30/lessons/151136)"
   ]
  },
  {
   "cell_type": "code",
   "execution_count": null,
   "id": "e2db3425",
   "metadata": {},
   "outputs": [],
   "source": []
  },
  {
   "cell_type": "markdown",
   "id": "8f0d0869",
   "metadata": {},
   "source": [
    "SQL: [조건에 맞는 도서 리스트 출력하기](https://school.programmers.co.kr/learn/courses/30/lessons/144853)"
   ]
  },
  {
   "cell_type": "code",
   "execution_count": null,
   "id": "edabd221",
   "metadata": {},
   "outputs": [],
   "source": []
  }
 ],
 "metadata": {
  "kernelspec": {
   "display_name": "Python 3 (ipykernel)",
   "language": "python",
   "name": "python3"
  },
  "language_info": {
   "codemirror_mode": {
    "name": "ipython",
    "version": 3
   },
   "file_extension": ".py",
   "mimetype": "text/x-python",
   "name": "python",
   "nbconvert_exporter": "python",
   "pygments_lexer": "ipython3",
   "version": "3.9.17"
  }
 },
 "nbformat": 4,
 "nbformat_minor": 5
}

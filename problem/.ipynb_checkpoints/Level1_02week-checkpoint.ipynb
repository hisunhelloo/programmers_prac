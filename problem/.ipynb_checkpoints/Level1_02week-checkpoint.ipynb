{
 "cells": [
  {
   "cell_type": "markdown",
   "id": "503287bc",
   "metadata": {},
   "source": [
    "[바탕화면 정리](https://school.programmers.co.kr/learn/courses/30/lessons/161990)"
   ]
  },
  {
   "cell_type": "code",
   "execution_count": null,
   "id": "dd28720b",
   "metadata": {},
   "outputs": [],
   "source": []
  },
  {
   "cell_type": "code",
   "execution_count": null,
   "id": "39368108",
   "metadata": {},
   "outputs": [],
   "source": []
  },
  {
   "cell_type": "markdown",
   "id": "4545d11b",
   "metadata": {},
   "source": [
    "[덧칠하기](https://school.programmers.co.kr/learn/courses/30/lessons/161989)"
   ]
  },
  {
   "cell_type": "code",
   "execution_count": null,
   "id": "398bc4dc",
   "metadata": {},
   "outputs": [],
   "source": []
  },
  {
   "cell_type": "code",
   "execution_count": null,
   "id": "dea2021f",
   "metadata": {},
   "outputs": [],
   "source": []
  },
  {
   "cell_type": "markdown",
   "id": "4668bee2",
   "metadata": {},
   "source": [
    "[대충 만든 자판](https://school.programmers.co.kr/learn/courses/30/lessons/160586)"
   ]
  },
  {
   "cell_type": "code",
   "execution_count": null,
   "id": "af03afcb",
   "metadata": {},
   "outputs": [],
   "source": []
  },
  {
   "cell_type": "code",
   "execution_count": null,
   "id": "583e907a",
   "metadata": {},
   "outputs": [],
   "source": []
  },
  {
   "cell_type": "markdown",
   "id": "6124c417",
   "metadata": {},
   "source": [
    "[카드 뭉치](https://school.programmers.co.kr/learn/courses/30/lessons/159994)"
   ]
  },
  {
   "cell_type": "code",
   "execution_count": null,
   "id": "24d2a354",
   "metadata": {},
   "outputs": [],
   "source": []
  },
  {
   "cell_type": "code",
   "execution_count": null,
   "id": "245af0b5",
   "metadata": {},
   "outputs": [],
   "source": []
  },
  {
   "cell_type": "markdown",
   "id": "500cb936",
   "metadata": {},
   "source": [
    "[둘만의 암호](https://school.programmers.co.kr/learn/courses/30/lessons/155652)"
   ]
  },
  {
   "cell_type": "code",
   "execution_count": null,
   "id": "6e9cf030",
   "metadata": {},
   "outputs": [],
   "source": []
  },
  {
   "cell_type": "code",
   "execution_count": null,
   "id": "b358d425",
   "metadata": {},
   "outputs": [],
   "source": []
  },
  {
   "cell_type": "markdown",
   "id": "28ac70f7",
   "metadata": {},
   "source": [
    "[개인정보 수집 유효기간](https://school.programmers.co.kr/learn/courses/30/lessons/150370)"
   ]
  },
  {
   "cell_type": "code",
   "execution_count": null,
   "id": "412f9653",
   "metadata": {},
   "outputs": [],
   "source": []
  },
  {
   "cell_type": "code",
   "execution_count": null,
   "id": "c8503c3d",
   "metadata": {},
   "outputs": [],
   "source": []
  },
  {
   "cell_type": "markdown",
   "id": "1e9bc268",
   "metadata": {},
   "source": [
    "[크기가 작은 부분문자열](https://school.programmers.co.kr/learn/courses/30/lessons/147355)"
   ]
  },
  {
   "cell_type": "code",
   "execution_count": null,
   "id": "646a0444",
   "metadata": {},
   "outputs": [],
   "source": []
  },
  {
   "cell_type": "code",
   "execution_count": null,
   "id": "0da4dd1a",
   "metadata": {},
   "outputs": [],
   "source": []
  }
 ],
 "metadata": {
  "kernelspec": {
   "display_name": "Python 3 (ipykernel)",
   "language": "python",
   "name": "python3"
  },
  "language_info": {
   "codemirror_mode": {
    "name": "ipython",
    "version": 3
   },
   "file_extension": ".py",
   "mimetype": "text/x-python",
   "name": "python",
   "nbconvert_exporter": "python",
   "pygments_lexer": "ipython3",
   "version": "3.9.17"
  }
 },
 "nbformat": 4,
 "nbformat_minor": 5
}

{
 "cells": [
  {
   "cell_type": "markdown",
   "id": "9dc86c39",
   "metadata": {},
   "source": [
    "[평균 구하기](https://school.programmers.co.kr/learn/courses/30/lessons/12944)"
   ]
  },
  {
   "cell_type": "code",
   "execution_count": null,
   "id": "0fb03c9a",
   "metadata": {},
   "outputs": [],
   "source": []
  },
  {
   "cell_type": "code",
   "execution_count": null,
   "id": "63e84a43",
   "metadata": {},
   "outputs": [],
   "source": []
  },
  {
   "cell_type": "markdown",
   "id": "5fd27acc",
   "metadata": {},
   "source": [
    "[콜라츠 추측](https://school.programmers.co.kr/learn/courses/30/lessons/12943)"
   ]
  },
  {
   "cell_type": "code",
   "execution_count": null,
   "id": "af0c3da4",
   "metadata": {},
   "outputs": [],
   "source": []
  },
  {
   "cell_type": "code",
   "execution_count": null,
   "id": "472ca152",
   "metadata": {},
   "outputs": [],
   "source": []
  },
  {
   "cell_type": "markdown",
   "id": "789d810a",
   "metadata": {},
   "source": [
    "[최대공약수와 최소공배수](https://school.programmers.co.kr/learn/courses/30/lessons/12940)"
   ]
  },
  {
   "cell_type": "code",
   "execution_count": null,
   "id": "02a91f30",
   "metadata": {},
   "outputs": [],
   "source": []
  },
  {
   "cell_type": "code",
   "execution_count": null,
   "id": "9b0532a7",
   "metadata": {},
   "outputs": [],
   "source": []
  },
  {
   "cell_type": "markdown",
   "id": "ef3d0b59",
   "metadata": {},
   "source": [
    "[짝수와 홀수](https://school.programmers.co.kr/learn/courses/30/lessons/12937)"
   ]
  },
  {
   "cell_type": "code",
   "execution_count": null,
   "id": "049c6c30",
   "metadata": {},
   "outputs": [],
   "source": []
  },
  {
   "cell_type": "code",
   "execution_count": null,
   "id": "475dc13f",
   "metadata": {},
   "outputs": [],
   "source": []
  },
  {
   "cell_type": "markdown",
   "id": "b411309e",
   "metadata": {},
   "source": [
    "[제일 작은 수 제거하기](https://school.programmers.co.kr/learn/courses/30/lessons/12935)"
   ]
  },
  {
   "cell_type": "code",
   "execution_count": null,
   "id": "7edcc8f1",
   "metadata": {},
   "outputs": [],
   "source": []
  },
  {
   "cell_type": "code",
   "execution_count": null,
   "id": "7603f207",
   "metadata": {},
   "outputs": [],
   "source": []
  },
  {
   "cell_type": "markdown",
   "id": "ef12900a",
   "metadata": {},
   "source": [
    "[정수 제곱근 판별](https://school.programmers.co.kr/learn/courses/30/lessons/12934)"
   ]
  },
  {
   "cell_type": "code",
   "execution_count": null,
   "id": "91f502c4",
   "metadata": {},
   "outputs": [],
   "source": []
  },
  {
   "cell_type": "code",
   "execution_count": null,
   "id": "0f577f35",
   "metadata": {},
   "outputs": [],
   "source": []
  },
  {
   "cell_type": "markdown",
   "id": "1ffd24ab",
   "metadata": {},
   "source": [
    "[정수 내림차순으로 배치하기](https://school.programmers.co.kr/learn/courses/30/lessons/12933)"
   ]
  },
  {
   "cell_type": "code",
   "execution_count": null,
   "id": "0ce183b1",
   "metadata": {},
   "outputs": [],
   "source": []
  },
  {
   "cell_type": "code",
   "execution_count": null,
   "id": "36e2c2cf",
   "metadata": {},
   "outputs": [],
   "source": []
  }
 ],
 "metadata": {
  "kernelspec": {
   "display_name": "Python 3 (ipykernel)",
   "language": "python",
   "name": "python3"
  },
  "language_info": {
   "codemirror_mode": {
    "name": "ipython",
    "version": 3
   },
   "file_extension": ".py",
   "mimetype": "text/x-python",
   "name": "python",
   "nbconvert_exporter": "python",
   "pygments_lexer": "ipython3",
   "version": "3.9.17"
  }
 },
 "nbformat": 4,
 "nbformat_minor": 5
}

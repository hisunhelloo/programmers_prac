{
 "cells": [
  {
   "cell_type": "markdown",
   "id": "9dc86c39",
   "metadata": {},
   "source": [
    "[실패율](https://school.programmers.co.kr/learn/courses/30/lessons/42889)"
   ]
  },
  {
   "cell_type": "code",
   "execution_count": null,
   "id": "0fb03c9a",
   "metadata": {},
   "outputs": [],
   "source": []
  },
  {
   "cell_type": "code",
   "execution_count": null,
   "id": "63e84a43",
   "metadata": {},
   "outputs": [],
   "source": []
  },
  {
   "cell_type": "markdown",
   "id": "5fd27acc",
   "metadata": {},
   "source": [
    "[체육복](https://school.programmers.co.kr/learn/courses/30/lessons/42862)"
   ]
  },
  {
   "cell_type": "code",
   "execution_count": null,
   "id": "af0c3da4",
   "metadata": {},
   "outputs": [],
   "source": []
  },
  {
   "cell_type": "code",
   "execution_count": null,
   "id": "472ca152",
   "metadata": {},
   "outputs": [],
   "source": []
  },
  {
   "cell_type": "markdown",
   "id": "789d810a",
   "metadata": {},
   "source": [
    "[모의고사](https://school.programmers.co.kr/learn/courses/30/lessons/42840)"
   ]
  },
  {
   "cell_type": "code",
   "execution_count": null,
   "id": "02a91f30",
   "metadata": {},
   "outputs": [],
   "source": []
  },
  {
   "cell_type": "code",
   "execution_count": null,
   "id": "9b0532a7",
   "metadata": {},
   "outputs": [],
   "source": []
  },
  {
   "cell_type": "markdown",
   "id": "ef3d0b59",
   "metadata": {},
   "source": [
    "[K번째수](https://school.programmers.co.kr/learn/courses/30/lessons/42748)"
   ]
  },
  {
   "cell_type": "code",
   "execution_count": null,
   "id": "049c6c30",
   "metadata": {},
   "outputs": [],
   "source": []
  },
  {
   "cell_type": "code",
   "execution_count": null,
   "id": "475dc13f",
   "metadata": {},
   "outputs": [],
   "source": []
  },
  {
   "cell_type": "markdown",
   "id": "b411309e",
   "metadata": {},
   "source": [
    "[완주하지 못한 선수](https://school.programmers.co.kr/learn/courses/30/lessons/42576)"
   ]
  },
  {
   "cell_type": "code",
   "execution_count": null,
   "id": "7edcc8f1",
   "metadata": {},
   "outputs": [],
   "source": []
  },
  {
   "cell_type": "code",
   "execution_count": null,
   "id": "7603f207",
   "metadata": {},
   "outputs": [],
   "source": []
  },
  {
   "cell_type": "markdown",
   "id": "ef12900a",
   "metadata": {},
   "source": [
    "[[1차] 다트 게임](https://school.programmers.co.kr/learn/courses/30/lessons/17682)"
   ]
  },
  {
   "cell_type": "code",
   "execution_count": null,
   "id": "91f502c4",
   "metadata": {},
   "outputs": [],
   "source": []
  },
  {
   "cell_type": "code",
   "execution_count": null,
   "id": "0f577f35",
   "metadata": {},
   "outputs": [],
   "source": []
  },
  {
   "cell_type": "markdown",
   "id": "1ffd24ab",
   "metadata": {},
   "source": [
    "[[1차] 비밀지도](https://school.programmers.co.kr/learn/courses/30/lessons/17681)"
   ]
  },
  {
   "cell_type": "code",
   "execution_count": null,
   "id": "0ce183b1",
   "metadata": {},
   "outputs": [],
   "source": []
  },
  {
   "cell_type": "code",
   "execution_count": null,
   "id": "36e2c2cf",
   "metadata": {},
   "outputs": [],
   "source": []
  },
  {
   "cell_type": "markdown",
   "id": "028c8a88",
   "metadata": {},
   "source": [
    "SQL: [최댓값 구하기](https://school.programmers.co.kr/learn/courses/30/lessons/59415)"
   ]
  },
  {
   "cell_type": "code",
   "execution_count": null,
   "id": "25635334",
   "metadata": {},
   "outputs": [],
   "source": []
  },
  {
   "cell_type": "markdown",
   "id": "b6f705fe",
   "metadata": {},
   "source": [
    "SQL: [이름이 있는 동물의 아이디](https://school.programmers.co.kr/learn/courses/30/lessons/59407)"
   ]
  },
  {
   "cell_type": "code",
   "execution_count": null,
   "id": "847f1ad6",
   "metadata": {},
   "outputs": [],
   "source": []
  },
  {
   "cell_type": "markdown",
   "id": "6b097aea",
   "metadata": {},
   "source": [
    "SQL: [상위 n개 레코드](https://school.programmers.co.kr/learn/courses/30/lessons/59405)"
   ]
  },
  {
   "cell_type": "code",
   "execution_count": null,
   "id": "18f72e74",
   "metadata": {},
   "outputs": [],
   "source": []
  },
  {
   "cell_type": "markdown",
   "id": "9373a91d",
   "metadata": {},
   "source": [
    "SQL: [여러 기준으로 정렬하기](https://school.programmers.co.kr/learn/courses/30/lessons/59404)"
   ]
  },
  {
   "cell_type": "code",
   "execution_count": null,
   "id": "de751e3d",
   "metadata": {},
   "outputs": [],
   "source": []
  },
  {
   "cell_type": "markdown",
   "id": "f935d9fb",
   "metadata": {},
   "source": [
    "SQL: [동물의 아이디와 이름](https://school.programmers.co.kr/learn/courses/30/lessons/59403)"
   ]
  },
  {
   "cell_type": "code",
   "execution_count": null,
   "id": "e19a26ae",
   "metadata": {},
   "outputs": [],
   "source": []
  },
  {
   "cell_type": "markdown",
   "id": "1b87c4f2",
   "metadata": {},
   "source": [
    "SQL: [이름이 없는 동물의 아이디](https://school.programmers.co.kr/learn/courses/30/lessons/59039)"
   ]
  },
  {
   "cell_type": "code",
   "execution_count": null,
   "id": "38bd5b8f",
   "metadata": {},
   "outputs": [],
   "source": []
  },
  {
   "cell_type": "markdown",
   "id": "103b3ed9",
   "metadata": {},
   "source": [
    "SQL: [어린 동물 찾기](https://school.programmers.co.kr/learn/courses/30/lessons/59037)"
   ]
  },
  {
   "cell_type": "code",
   "execution_count": null,
   "id": "4db3ab07",
   "metadata": {},
   "outputs": [],
   "source": []
  },
  {
   "cell_type": "markdown",
   "id": "71103c14",
   "metadata": {},
   "source": [
    "SQL: [아픈 동물 찾기](https://school.programmers.co.kr/learn/courses/30/lessons/59036)"
   ]
  },
  {
   "cell_type": "code",
   "execution_count": null,
   "id": "2f988540",
   "metadata": {},
   "outputs": [],
   "source": []
  },
  {
   "cell_type": "markdown",
   "id": "80813212",
   "metadata": {},
   "source": [
    "SQL: [역순 정렬하기](https://school.programmers.co.kr/learn/courses/30/lessons/59035)"
   ]
  },
  {
   "cell_type": "code",
   "execution_count": null,
   "id": "7618a833",
   "metadata": {},
   "outputs": [],
   "source": []
  },
  {
   "cell_type": "markdown",
   "id": "8f798c60",
   "metadata": {},
   "source": [
    "SQL: [모든 레코드 조회하기](https://school.programmers.co.kr/learn/courses/30/lessons/59034d)"
   ]
  },
  {
   "cell_type": "code",
   "execution_count": null,
   "id": "3af71a9b",
   "metadata": {},
   "outputs": [],
   "source": []
  }
 ],
 "metadata": {
  "kernelspec": {
   "display_name": "Python 3 (ipykernel)",
   "language": "python",
   "name": "python3"
  },
  "language_info": {
   "codemirror_mode": {
    "name": "ipython",
    "version": 3
   },
   "file_extension": ".py",
   "mimetype": "text/x-python",
   "name": "python",
   "nbconvert_exporter": "python",
   "pygments_lexer": "ipython3",
   "version": "3.9.17"
  }
 },
 "nbformat": 4,
 "nbformat_minor": 5
}

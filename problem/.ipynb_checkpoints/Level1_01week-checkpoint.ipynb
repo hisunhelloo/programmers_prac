{
 "cells": [
  {
   "cell_type": "markdown",
   "id": "6ea2166f",
   "metadata": {},
   "source": [
    "[[PCCP 기출문제] 1번 / 붕대 감기](https://school.programmers.co.kr/learn/courses/30/lessons/250137)"
   ]
  },
  {
   "cell_type": "code",
   "execution_count": null,
   "id": "0aa6c051",
   "metadata": {},
   "outputs": [],
   "source": []
  },
  {
   "cell_type": "code",
   "execution_count": null,
   "id": "0207c97b",
   "metadata": {},
   "outputs": [],
   "source": []
  },
  {
   "cell_type": "markdown",
   "id": "cf9419ed",
   "metadata": {},
   "source": [
    "[[PCCE 기출문제] 9번 / 이웃한 칸](https://school.programmers.co.kr/learn/courses/30/lessons/250125)"
   ]
  },
  {
   "cell_type": "code",
   "execution_count": null,
   "id": "ba85b7bd",
   "metadata": {},
   "outputs": [],
   "source": []
  },
  {
   "cell_type": "code",
   "execution_count": null,
   "id": "6bafbe6a",
   "metadata": {},
   "outputs": [],
   "source": []
  },
  {
   "cell_type": "markdown",
   "id": "219c930f",
   "metadata": {},
   "source": [
    "[[PCCE 기출문제] 10번 / 데이터 분석](https://school.programmers.co.kr/learn/courses/30/lessons/250121)"
   ]
  },
  {
   "cell_type": "code",
   "execution_count": null,
   "id": "ce9b513a",
   "metadata": {},
   "outputs": [],
   "source": []
  },
  {
   "cell_type": "code",
   "execution_count": null,
   "id": "45056326",
   "metadata": {},
   "outputs": [],
   "source": []
  },
  {
   "cell_type": "markdown",
   "id": "5dc5aa18",
   "metadata": {},
   "source": [
    "[달리기 경주](https://school.programmers.co.kr/learn/courses/30/lessons/178871)"
   ]
  },
  {
   "cell_type": "code",
   "execution_count": null,
   "id": "b38ac126",
   "metadata": {},
   "outputs": [],
   "source": []
  },
  {
   "cell_type": "code",
   "execution_count": null,
   "id": "58bc83f5",
   "metadata": {},
   "outputs": [],
   "source": []
  },
  {
   "cell_type": "markdown",
   "id": "de6737c0",
   "metadata": {},
   "source": [
    "[추억 점수](https://school.programmers.co.kr/learn/courses/30/lessons/176963)"
   ]
  },
  {
   "cell_type": "code",
   "execution_count": null,
   "id": "d0914b77",
   "metadata": {},
   "outputs": [],
   "source": []
  },
  {
   "cell_type": "code",
   "execution_count": null,
   "id": "df888f36",
   "metadata": {},
   "outputs": [],
   "source": []
  },
  {
   "cell_type": "markdown",
   "id": "f26b9406",
   "metadata": {},
   "source": [
    "[공원 산책](https://school.programmers.co.kr/learn/courses/30/lessons/172928)"
   ]
  },
  {
   "cell_type": "code",
   "execution_count": null,
   "id": "699ed3ea",
   "metadata": {},
   "outputs": [],
   "source": []
  },
  {
   "cell_type": "code",
   "execution_count": null,
   "id": "4798cd3a",
   "metadata": {},
   "outputs": [],
   "source": []
  },
  {
   "cell_type": "markdown",
   "id": "fa760ece",
   "metadata": {},
   "source": [
    "[바탕화면 정리](https://school.programmers.co.kr/learn/courses/30/lessons/161990)"
   ]
  },
  {
   "cell_type": "code",
   "execution_count": null,
   "id": "777cd443",
   "metadata": {},
   "outputs": [],
   "source": []
  },
  {
   "cell_type": "code",
   "execution_count": null,
   "id": "46eab04f",
   "metadata": {},
   "outputs": [],
   "source": []
  },
  {
   "cell_type": "markdown",
   "id": "7f520694",
   "metadata": {},
   "source": [
    "SQL: [조건에 부합하는 중고거래 댓글 조회하기](https://school.programmers.co.kr/learn/courses/30/lessons/164673)"
   ]
  },
  {
   "cell_type": "code",
   "execution_count": null,
   "id": "e2f9e73a",
   "metadata": {},
   "outputs": [],
   "source": []
  }
 ],
 "metadata": {
  "kernelspec": {
   "display_name": "Python 3 (ipykernel)",
   "language": "python",
   "name": "python3"
  },
  "language_info": {
   "codemirror_mode": {
    "name": "ipython",
    "version": 3
   },
   "file_extension": ".py",
   "mimetype": "text/x-python",
   "name": "python",
   "nbconvert_exporter": "python",
   "pygments_lexer": "ipython3",
   "version": "3.9.17"
  }
 },
 "nbformat": 4,
 "nbformat_minor": 5
}

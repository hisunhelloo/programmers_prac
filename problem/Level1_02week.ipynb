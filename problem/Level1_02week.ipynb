{
 "cells": [
  {
   "cell_type": "markdown",
   "id": "503287bc",
   "metadata": {},
   "source": [
    "[바탕화면 정리](https://school.programmers.co.kr/learn/courses/30/lessons/161990)"
   ]
  },
  {
   "cell_type": "code",
   "execution_count": null,
   "id": "dd28720b",
   "metadata": {},
   "outputs": [],
   "source": [
    "def solution(wallpaper):\n",
    "    row_min=100\n",
    "    col_min=100\n",
    "    row_max=0\n",
    "    col_max=0\n",
    "    for i,_ in enumerate(wallpaper):\n",
    "        for j in range(len(wallpaper[i])):\n",
    "            if wallpaper[i][j]==\"#\":\n",
    "                row_min=min(row_min,i)\n",
    "                col_min=min(col_min,j)\n",
    "                row_max=max(row_max,i)\n",
    "                col_max=max(col_max,j)\n",
    "    \n",
    "    answer=[row_min,col_min,row_max+1,col_max+1]\n",
    "    return answer"
   ]
  },
  {
   "cell_type": "code",
   "execution_count": null,
   "id": "39368108",
   "metadata": {},
   "outputs": [],
   "source": [
    "def solution(wallpaper):\n",
    "    row_min=100\n",
    "    col_min=100\n",
    "    row_max=0\n",
    "    col_max=0\n",
    "    for i,_ in enumerate(wallpaper):\n",
    "        for j in range(len(wallpaper[i])):\n",
    "            if wallpaper[i][j]==\"#\":\n",
    "                row_min=min(row_min,i)\n",
    "                col_min=min(col_min,j)\n",
    "                row_max=max(row_max,i)\n",
    "                col_max=max(col_max,j)\n",
    "    \n",
    "    answer=[row_min,col_min,row_max+1,col_max+1]\n",
    "    return answer\n",
    "\n",
    "print(solution([\".#...\", \"..#..\", \"...#.\"]))\n",
    "print(solution([\"..........\", \".....#....\", \"......##..\", \"...##.....\", \"....#.....\"]))\n",
    "print(solution([\".##...##.\", \"#..#.#..#\", \"#...#...#\", \".#.....#.\", \"..#...#..\", \"...#.#...\", \"....#....\"]))\n",
    "print(solution([\"..\", \"#.\"]))"
   ]
  },
  {
   "cell_type": "markdown",
   "id": "4545d11b",
   "metadata": {},
   "source": [
    "[덧칠하기](https://school.programmers.co.kr/learn/courses/30/lessons/161989)"
   ]
  },
  {
   "cell_type": "code",
   "execution_count": null,
   "id": "398bc4dc",
   "metadata": {},
   "outputs": [],
   "source": []
  },
  {
   "cell_type": "code",
   "execution_count": 6,
   "id": "dea2021f",
   "metadata": {},
   "outputs": [
    {
     "name": "stdout",
     "output_type": "stream",
     "text": [
      "2\n",
      "1\n",
      "3\n"
     ]
    }
   ],
   "source": [
    "def solution(n, m, section):\n",
    "    start=section[0]\n",
    "    count=0\n",
    "    for i in section:\n",
    "        if start<=i:\n",
    "            start=i+m-1\n",
    "            count+=1\n",
    "        \n",
    "    return count\n",
    "\n",
    "print(solution(8,4,\t[2, 3, 6]))\n",
    "print(solution(5,4,[1,3]))\n",
    "print(solution(4,\t1,\t[1, 2, 4]))"
   ]
  },
  {
   "cell_type": "markdown",
   "id": "4668bee2",
   "metadata": {},
   "source": [
    "[대충 만든 자판](https://school.programmers.co.kr/learn/courses/30/lessons/160586)"
   ]
  },
  {
   "cell_type": "code",
   "execution_count": null,
   "id": "af03afcb",
   "metadata": {},
   "outputs": [],
   "source": []
  },
  {
   "cell_type": "code",
   "execution_count": null,
   "id": "583e907a",
   "metadata": {},
   "outputs": [],
   "source": []
  },
  {
   "cell_type": "markdown",
   "id": "6124c417",
   "metadata": {},
   "source": [
    "[카드 뭉치](https://school.programmers.co.kr/learn/courses/30/lessons/159994)"
   ]
  },
  {
   "cell_type": "code",
   "execution_count": null,
   "id": "24d2a354",
   "metadata": {},
   "outputs": [],
   "source": []
  },
  {
   "cell_type": "code",
   "execution_count": null,
   "id": "245af0b5",
   "metadata": {},
   "outputs": [],
   "source": []
  },
  {
   "cell_type": "markdown",
   "id": "500cb936",
   "metadata": {},
   "source": [
    "[둘만의 암호](https://school.programmers.co.kr/learn/courses/30/lessons/155652)"
   ]
  },
  {
   "cell_type": "code",
   "execution_count": null,
   "id": "6e9cf030",
   "metadata": {},
   "outputs": [],
   "source": []
  },
  {
   "cell_type": "code",
   "execution_count": null,
   "id": "b358d425",
   "metadata": {},
   "outputs": [],
   "source": []
  },
  {
   "cell_type": "markdown",
   "id": "28ac70f7",
   "metadata": {},
   "source": [
    "[개인정보 수집 유효기간](https://school.programmers.co.kr/learn/courses/30/lessons/150370)"
   ]
  },
  {
   "cell_type": "code",
   "execution_count": null,
   "id": "412f9653",
   "metadata": {},
   "outputs": [],
   "source": []
  },
  {
   "cell_type": "code",
   "execution_count": null,
   "id": "c8503c3d",
   "metadata": {},
   "outputs": [],
   "source": []
  },
  {
   "cell_type": "markdown",
   "id": "1e9bc268",
   "metadata": {},
   "source": [
    "[크기가 작은 부분문자열](https://school.programmers.co.kr/learn/courses/30/lessons/147355)"
   ]
  },
  {
   "cell_type": "code",
   "execution_count": null,
   "id": "646a0444",
   "metadata": {},
   "outputs": [],
   "source": []
  },
  {
   "cell_type": "code",
   "execution_count": null,
   "id": "0da4dd1a",
   "metadata": {},
   "outputs": [],
   "source": []
  }
 ],
 "metadata": {
  "kernelspec": {
   "display_name": "Python 3 (ipykernel)",
   "language": "python",
   "name": "python3"
  },
  "language_info": {
   "codemirror_mode": {
    "name": "ipython",
    "version": 3
   },
   "file_extension": ".py",
   "mimetype": "text/x-python",
   "name": "python",
   "nbconvert_exporter": "python",
   "pygments_lexer": "ipython3",
   "version": "3.8.17"
  }
 },
 "nbformat": 4,
 "nbformat_minor": 5
}

{
 "cells": [
  {
   "cell_type": "markdown",
   "id": "503287bc",
   "metadata": {},
   "source": [
    "[바탕화면 정리](https://school.programmers.co.kr/learn/courses/30/lessons/161990)"
   ]
  },
  {
   "cell_type": "code",
   "execution_count": null,
   "id": "dd28720b",
   "metadata": {},
   "outputs": [],
   "source": [
    "def solution(wallpaper):\n",
    "    row_min=100\n",
    "    col_min=100\n",
    "    row_max=0\n",
    "    col_max=0\n",
    "    for i,_ in enumerate(wallpaper):\n",
    "        for j in range(len(wallpaper[i])):\n",
    "            if wallpaper[i][j]==\"#\":\n",
    "                row_min=min(row_min,i)\n",
    "                col_min=min(col_min,j)\n",
    "                row_max=max(row_max,i)\n",
    "                col_max=max(col_max,j)\n",
    "    \n",
    "    answer=[row_min,col_min,row_max+1,col_max+1]\n",
    "    return answer"
   ]
  },
  {
   "cell_type": "code",
   "execution_count": null,
   "id": "39368108",
   "metadata": {},
   "outputs": [],
   "source": [
    "def solution(wallpaper):\n",
    "    row_min=100\n",
    "    col_min=100\n",
    "    row_max=0\n",
    "    col_max=0\n",
    "    for i,_ in enumerate(wallpaper):\n",
    "        for j in range(len(wallpaper[i])):\n",
    "            if wallpaper[i][j]==\"#\":\n",
    "                row_min=min(row_min,i)\n",
    "                col_min=min(col_min,j)\n",
    "                row_max=max(row_max,i)\n",
    "                col_max=max(col_max,j)\n",
    "    \n",
    "    answer=[row_min,col_min,row_max+1,col_max+1]\n",
    "    return answer\n",
    "\n",
    "print(solution([\".#...\", \"..#..\", \"...#.\"]))\n",
    "print(solution([\"..........\", \".....#....\", \"......##..\", \"...##.....\", \"....#.....\"]))\n",
    "print(solution([\".##...##.\", \"#..#.#..#\", \"#...#...#\", \".#.....#.\", \"..#...#..\", \"...#.#...\", \"....#....\"]))\n",
    "print(solution([\"..\", \"#.\"]))"
   ]
  },
  {
   "cell_type": "markdown",
   "id": "4545d11b",
   "metadata": {},
   "source": [
    "[덧칠하기](https://school.programmers.co.kr/learn/courses/30/lessons/161989)"
   ]
  },
  {
   "cell_type": "code",
   "execution_count": null,
   "id": "398bc4dc",
   "metadata": {},
   "outputs": [],
   "source": [
    "def solution(n, m, section):\n",
    "    start=section[0]\n",
    "    count=1\n",
    "    for i in section:\n",
    "        if start+m-1<i:\n",
    "            start=i\n",
    "            count+=1\n",
    "        \n",
    "    return count"
   ]
  },
  {
   "cell_type": "code",
   "execution_count": 17,
   "id": "dea2021f",
   "metadata": {},
   "outputs": [
    {
     "name": "stdout",
     "output_type": "stream",
     "text": [
      "2\n",
      "1\n",
      "2\n"
     ]
    }
   ],
   "source": [
    "def solution(n, m, section):\n",
    "    start=section[0]\n",
    "    count=1\n",
    "    for i in section:\n",
    "        if start+m-1<i:\n",
    "            start=i\n",
    "            count+=1\n",
    "        \n",
    "    return count\n",
    "\n",
    "print(solution(8,4,\t[2, 3, 6]))\n",
    "print(solution(5,4,[1,3]))\n",
    "print(solution(8,\t2,\t[1, 2, 7,8]))"
   ]
  },
  {
   "cell_type": "markdown",
   "id": "4668bee2",
   "metadata": {},
   "source": [
    "[대충 만든 자판](https://school.programmers.co.kr/learn/courses/30/lessons/160586)"
   ]
  },
  {
   "cell_type": "code",
   "execution_count": null,
   "id": "af03afcb",
   "metadata": {},
   "outputs": [],
   "source": [
    "def solution(keymap, targets):\n",
    "    answer=[]\n",
    "    \n",
    "    for target in targets:\n",
    "        cnt=0\n",
    "        for x in target:\n",
    "            m=101\n",
    "            for key in keymap:\n",
    "                if x in key:\n",
    "                    m=min(m,key.index(x)+1)\n",
    "            if m>100: cnt=-1    \n",
    "            else: cnt+=m\n",
    "            if cnt==-1: break\n",
    "        answer.append(cnt)\n",
    "    \n",
    "    return answer"
   ]
  },
  {
   "cell_type": "code",
   "execution_count": 39,
   "id": "583e907a",
   "metadata": {},
   "outputs": [
    {
     "name": "stdout",
     "output_type": "stream",
     "text": [
      "[9, 4]\n",
      "[-1]\n",
      "[4, 6]\n",
      "[-1]\n",
      "[-1]\n"
     ]
    }
   ],
   "source": [
    "def solution(keymap, targets):\n",
    "    answer=[]\n",
    "    \n",
    "    for target in targets:\n",
    "        cnt=0\n",
    "        for x in target:\n",
    "            m=101\n",
    "            for key in keymap:\n",
    "                if x in key:\n",
    "                    m=min(m,key.index(x)+1)\n",
    "            if m>100: cnt=-1    \n",
    "            else: cnt+=m\n",
    "            if cnt==-1: break\n",
    "        answer.append(cnt)\n",
    "    \n",
    "    return answer\n",
    "\n",
    "print(solution([\"ABACD\", \"BCEFD\"],[\"ABCD\",\"AABB\"]))\n",
    "print(solution([\"AA\"],[\"B\"]))\n",
    "print(solution([\"AGZ\", \"BSSS\"],[\"ASA\",\"BGZ\"]))\n",
    "print(solution([\"ABC\"], [\"XA\"]))\n",
    "print(solution([\"ABCE\"], [\"ABDE\"]))"
   ]
  },
  {
   "cell_type": "markdown",
   "id": "6124c417",
   "metadata": {},
   "source": [
    "[카드 뭉치](https://school.programmers.co.kr/learn/courses/30/lessons/159994)"
   ]
  },
  {
   "cell_type": "code",
   "execution_count": 9,
   "id": "24d2a354",
   "metadata": {},
   "outputs": [
    {
     "name": "stdout",
     "output_type": "stream",
     "text": [
      "Yes\n",
      "No\n"
     ]
    }
   ],
   "source": [
    "def solution(cards1, cards2, goal):\n",
    "    i,j=0,0\n",
    "    for word in goal:\n",
    "        if word==cards1[i]:\n",
    "            i+=1 if i+1<len(cards1) else 0\n",
    "        elif word==cards2[j]:\n",
    "            j+=1 if j+1<len(cards2) else 0\n",
    "        else: \n",
    "            return \"No\"\n",
    "    return \"Yes\"\n",
    "\n",
    "print(solution([\"i\", \"drink\", \"water\"],\t[\"want\", \"to\"],\t[\"i\", \"want\", \"to\", \"drink\", \"water\"]))\n",
    "print(solution([\"i\", \"water\", \"drink\"],\t[\"want\", \"to\"],\t[\"i\", \"want\", \"to\", \"drink\", \"water\"]))\n"
   ]
  },
  {
   "cell_type": "code",
   "execution_count": 8,
   "id": "245af0b5",
   "metadata": {},
   "outputs": [
    {
     "name": "stdout",
     "output_type": "stream",
     "text": [
      "Yes\n",
      "No\n"
     ]
    }
   ],
   "source": [
    "def solution(cards1, cards2, goal):\n",
    "    cards1.append(\"_\")\n",
    "    cards2.append(\"_\")\n",
    "\n",
    "    for word in goal:\n",
    "        if word==cards1[0]:\n",
    "            cards1.pop(0)\n",
    "        elif word==cards2[0]:\n",
    "            cards2.pop(0)\n",
    "        else:\n",
    "            return \"No\"\n",
    "    return \"Yes\"\n",
    "\n",
    "print(solution([\"i\", \"drink\", \"water\"],\t[\"want\", \"to\"],\t[\"i\", \"want\", \"to\", \"drink\", \"water\"]))\n",
    "print(solution([\"i\", \"water\", \"drink\"],\t[\"want\", \"to\"],\t[\"i\", \"want\", \"to\", \"drink\", \"water\"]))\n"
   ]
  },
  {
   "cell_type": "markdown",
   "id": "500cb936",
   "metadata": {},
   "source": [
    "[둘만의 암호](https://school.programmers.co.kr/learn/courses/30/lessons/155652)"
   ]
  },
  {
   "cell_type": "code",
   "execution_count": null,
   "id": "ed6cb82c",
   "metadata": {},
   "outputs": [],
   "source": [
    "# 어려움 나중에 다시 한 번 풀기..\n",
    "def max_alpha(x):\n",
    "    if x>122:\n",
    "        return (x%123)+97\n",
    "    else: return x\n",
    "\n",
    "def solution(s, skip, index):\n",
    "    sk_list=[ord(st) for st in skip]\n",
    "    word=[]\n",
    "    for st in s:\n",
    "         so=ord(st)\n",
    "         idx=index\n",
    "         while idx:\n",
    "            so=max_alpha(so+1)\n",
    "            if so in sk_list:\n",
    "                continue\n",
    "            else:\n",
    "                idx-=1\n",
    "\n",
    "         word.append(chr(max_alpha(so)))\n",
    "                    \n",
    "    answer = ''.join(n for n in word)\n",
    "    return answer"
   ]
  },
  {
   "cell_type": "code",
   "execution_count": 61,
   "id": "6e9cf030",
   "metadata": {},
   "outputs": [
    {
     "name": "stdout",
     "output_type": "stream",
     "text": [
      "opqrstuvwxyznml\n",
      "happy\n",
      "bbbbb\n"
     ]
    }
   ],
   "source": [
    "def max_alpha(x):\n",
    "    if x>122:\n",
    "        return (x%123)+97\n",
    "    else: return x\n",
    "\n",
    "def solution(s, skip, index):\n",
    "    sk_list=[ord(st) for st in skip]\n",
    "    word=[]\n",
    "    for st in s:\n",
    "         so=ord(st)\n",
    "         idx=index\n",
    "         while idx:\n",
    "            so=max_alpha(so+1)\n",
    "            if so in sk_list:\n",
    "                continue\n",
    "            else:\n",
    "                idx-=1\n",
    "\n",
    "         word.append(chr(max_alpha(so)))\n",
    "                    \n",
    "    answer = ''.join(n for n in word)\n",
    "    return answer\n",
    "\n",
    "print(solution(\"klmnopqrstuvzyx\", \"abcdefghij\", 20))\n",
    "print(solution(\"aukks\",\t\"wbqd\",\t5))\n",
    "print(solution(\"zzzzz\",\"a\",1))\n",
    "#print(solution())"
   ]
  },
  {
   "cell_type": "markdown",
   "id": "28ac70f7",
   "metadata": {},
   "source": [
    "[개인정보 수집 유효기간](https://school.programmers.co.kr/learn/courses/30/lessons/150370)"
   ]
  },
  {
   "cell_type": "code",
   "execution_count": null,
   "id": "c9271e92",
   "metadata": {},
   "outputs": [],
   "source": [
    "def solution(today, terms, privacies):\n",
    "    today=int(\"\".join(today.split(\".\")))\n",
    "    term={}\n",
    "    answer = []\n",
    "\n",
    "    for i in terms:\n",
    "        m=str(int(i.split()[1])%12)\n",
    "        if int(m)<10:\n",
    "            m=\"0\"+m\n",
    "        y=str(int(i.split()[1])//12)\n",
    "        term[i.split()[0]]=y+m+\"00\"\n",
    "\n",
    "    idx=0\n",
    "    for privacy in privacies:\n",
    "        idx+=1\n",
    "\n",
    "        date=int(\"\".join(privacy[:10].split(\".\")))\n",
    "        date+=int(term[privacy[-1]])\n",
    "        date=str(date)\n",
    "\n",
    "        if int(date[4:6])>12:\n",
    "            if (int(date[4:6])%12) < 10:\n",
    "                mon=\"0\"+str(int(date[4:6])%12)\n",
    "            else:\n",
    "                mon=str(int(date[4:6])%12)\n",
    "            \n",
    "            date=date[:2]+str(int(date[2:4])+1)+mon+date[6:]\n",
    "        \n",
    "        date=int(date)\n",
    "\n",
    "        if date<=today:\n",
    "            answer.append(idx)\n",
    "        \n",
    "    return answer"
   ]
  },
  {
   "cell_type": "code",
   "execution_count": 4,
   "id": "412f9653",
   "metadata": {},
   "outputs": [
    {
     "name": "stdout",
     "output_type": "stream",
     "text": [
      "[1, 3]\n",
      "[1, 4, 5]\n"
     ]
    }
   ],
   "source": [
    "def MonthToDate(mon):\n",
    "    mon=int(mon)\n",
    "    if mon>12:\n",
    "        m=str(mon%12)\n",
    "        if int(m)<10:\n",
    "            m=\"0\"+m\n",
    "        y=str(mon//12)\n",
    "        return y+m+\"00\"\n",
    "    return str(mon)+\"00\"\n",
    "\n",
    "def solution(today, terms, privacies):\n",
    "    today=int(\"\".join(today.split(\".\")))\n",
    "    term={}\n",
    "    answer = []\n",
    "\n",
    "    for v in terms:\n",
    "        term[v[0]]=MonthToDate(v[2:])\n",
    "\n",
    "    \n",
    "    for idx,privacy in enumerate(privacies):\n",
    "\n",
    "        date=int(\"\".join(privacy[:10].split(\".\")))\n",
    "        date+=int(term[privacy[-1]])\n",
    "        date=str(date)\n",
    "        \n",
    "        d=date[:4]+\"00\"+date[6:]\n",
    "        date=int(d)+int(MonthToDate(date[4:6]))\n",
    "\n",
    "        if date<=today:\n",
    "            answer.append(idx+1)\n",
    "        \n",
    "    return answer\n",
    "\n",
    "print(solution(\"2022.05.19\",\t[\"A 6\", \"B 12\", \"C 3\"],\t[\"2021.05.02 A\", \"2021.07.01 B\", \"2022.02.19 C\", \"2022.02.20 C\"]))\n",
    "print(solution(\"2020.01.01\",\t[\"Z 3\", \"D 5\"],\t[\"2019.01.01 D\", \"2019.11.15 Z\", \"2019.08.02 D\", \"2019.07.01 D\", \"2018.12.28 Z\"]))"
   ]
  },
  {
   "cell_type": "code",
   "execution_count": 3,
   "id": "f6e43adf",
   "metadata": {},
   "outputs": [
    {
     "name": "stdout",
     "output_type": "stream",
     "text": [
      "[1, 3]\n",
      "[1, 4, 5]\n"
     ]
    }
   ],
   "source": [
    "def to_days(date):\n",
    "    year, month, day = map(int, date.split(\".\"))\n",
    "    return year * 28 * 12 + month * 28 + day\n",
    "\n",
    "def solution(today, terms, privacies):\n",
    "    months = {v[0]: int(v[2:]) * 28 for v in terms}\n",
    "    \n",
    "    today = to_days(today)\n",
    "    expire = [\n",
    "        i + 1 for i, privacy in enumerate(privacies)\n",
    "        if to_days(privacy[:-2]) + months[privacy[-1]] <= today\n",
    "    ]\n",
    "    return expire\n",
    "print(solution(\"2022.05.19\",\t[\"A 6\", \"B 12\", \"C 3\"],\t[\"2021.05.02 A\", \"2021.07.01 B\", \"2022.02.19 C\", \"2022.02.20 C\"]))\n",
    "print(solution(\"2020.01.01\",\t[\"Z 3\", \"D 5\"],\t[\"2019.01.01 D\", \"2019.11.15 Z\", \"2019.08.02 D\", \"2019.07.01 D\", \"2018.12.28 Z\"]))"
   ]
  },
  {
   "cell_type": "markdown",
   "id": "1e9bc268",
   "metadata": {},
   "source": [
    "[크기가 작은 부분문자열](https://school.programmers.co.kr/learn/courses/30/lessons/147355)"
   ]
  },
  {
   "cell_type": "code",
   "execution_count": null,
   "id": "646a0444",
   "metadata": {},
   "outputs": [],
   "source": [
    "def solution(t, p):\n",
    "    answer=0\n",
    "    for i in range(len(t)-len(p)+1):\n",
    "        tt=int(t[i:i+len(p)])\n",
    "        if tt<=int(p):\n",
    "            answer+=1\n",
    "\n",
    "    return answer"
   ]
  },
  {
   "cell_type": "code",
   "execution_count": 6,
   "id": "0da4dd1a",
   "metadata": {},
   "outputs": [
    {
     "name": "stdout",
     "output_type": "stream",
     "text": [
      "2\n",
      "8\n",
      "3\n"
     ]
    }
   ],
   "source": [
    "def solution(t, p):\n",
    "    tl=[]\n",
    "    for i in range(len(t)-len(p)+1):\n",
    "        tt=int(t[i:i+len(p)])\n",
    "        if tt<=int(p):\n",
    "            tl.append(tt)\n",
    "\n",
    "    answer = len(tl)\n",
    "    return answer\n",
    "\n",
    "print(solution(\"3141592\",\"271\"))\n",
    "print(solution(\"500220839878\",\"7\"))\n",
    "print(solution(\"10203\",\"15\"))"
   ]
  }
 ],
 "metadata": {
  "kernelspec": {
   "display_name": "Python 3 (ipykernel)",
   "language": "python",
   "name": "python3"
  },
  "language_info": {
   "codemirror_mode": {
    "name": "ipython",
    "version": 3
   },
   "file_extension": ".py",
   "mimetype": "text/x-python",
   "name": "python",
   "nbconvert_exporter": "python",
   "pygments_lexer": "ipython3",
   "version": "3.8.17"
  }
 },
 "nbformat": 4,
 "nbformat_minor": 5
}

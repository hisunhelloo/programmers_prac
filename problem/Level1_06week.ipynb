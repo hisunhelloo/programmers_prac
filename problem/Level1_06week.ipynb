{
 "cells": [
  {
   "cell_type": "markdown",
   "id": "9dc86c39",
   "metadata": {},
   "source": [
    "[음양 더하기](https://school.programmers.co.kr/learn/courses/30/lessons/76501)"
   ]
  },
  {
   "cell_type": "code",
   "execution_count": null,
   "id": "0fb03c9a",
   "metadata": {},
   "outputs": [],
   "source": [
    "def solution(absolutes, signs):\n",
    "    answer = 0\n",
    "    for i,sign in enumerate(signs):\n",
    "        if sign:\n",
    "            answer += absolutes[i]\n",
    "        else:\n",
    "            answer -= absolutes[i]\n",
    "\n",
    "    return answer"
   ]
  },
  {
   "cell_type": "code",
   "execution_count": 1,
   "id": "63e84a43",
   "metadata": {},
   "outputs": [
    {
     "data": {
      "text/plain": [
       "0"
      ]
     },
     "execution_count": 1,
     "metadata": {},
     "output_type": "execute_result"
    }
   ],
   "source": [
    "def solution(absolutes, signs):\n",
    "    answer = 0\n",
    "    for i,sign in enumerate(signs):\n",
    "        if sign:\n",
    "            answer += absolutes[i]\n",
    "        else:\n",
    "            answer -= absolutes[i]\n",
    "\n",
    "    return answer\n",
    "\n",
    "solution([1,2,3],[False,False,True])"
   ]
  },
  {
   "cell_type": "code",
   "execution_count": 2,
   "id": "d978aad8",
   "metadata": {},
   "outputs": [],
   "source": [
    "# zip()\n",
    "def solution(absolutes, signs):\n",
    "    answer=0\n",
    "    for absolute,sign in zip(absolutes,signs):\n",
    "        if sign:\n",
    "            answer+=absolute\n",
    "        else:\n",
    "            answer-=absolute\n",
    "    return answer"
   ]
  },
  {
   "cell_type": "markdown",
   "id": "5fd27acc",
   "metadata": {},
   "source": [
    "[신규 아이디 추천](https://school.programmers.co.kr/learn/courses/30/lessons/72410)"
   ]
  },
  {
   "cell_type": "code",
   "execution_count": null,
   "id": "af0c3da4",
   "metadata": {},
   "outputs": [],
   "source": [
    "# 딜레마존/ 해석하기 좋은 코드냐 성능이 좋은 코드냐..\n",
    "# 이 코드는 비교적 성능이 좋은 코드..\n",
    "def solution(new_id):\n",
    "    answer = \"\"\n",
    "    except_id = \"~!@#$%^&*()=+[{]}:?,<>/\"\n",
    "    \n",
    "    if len(new_id) < 3:\n",
    "        new_id += new_id[-1]\n",
    "    \n",
    "    new_id = new_id.lower()\n",
    "    new_id = new_id.strip(\".\")\n",
    "    \n",
    "    for one_id in new_id:\n",
    "        if one_id in except_id:\n",
    "            continue\n",
    "        if one_id == \".\":\n",
    "            if answer == \"\":\n",
    "                continue\n",
    "            elif answer[-1] == \".\":\n",
    "                continue\n",
    "        answer += one_id\n",
    "        \n",
    "        if len(answer) >= 15:\n",
    "            break\n",
    "    \n",
    "    answer = answer.strip(\".\")\n",
    "\n",
    "    while len(answer) < 3:\n",
    "        if answer == \"\":\n",
    "            answer += \"a\"\n",
    "        answer += answer[-1]\n",
    "\n",
    "    return answer"
   ]
  },
  {
   "cell_type": "code",
   "execution_count": 8,
   "id": "472ca152",
   "metadata": {},
   "outputs": [
    {
     "name": "stdout",
     "output_type": "stream",
     "text": [
      "1\n",
      "2\n",
      "3\n",
      "4\n",
      "5\n"
     ]
    }
   ],
   "source": [
    "def solution(new_id):\n",
    "    answer = \"\"\n",
    "    except_id = \"~!@#$%^&*()=+[{]}:?,<>/\"\n",
    "    \n",
    "    if len(new_id) < 3:\n",
    "        new_id += new_id[-1]\n",
    "    \n",
    "    new_id = new_id.lower()\n",
    "    new_id = new_id.strip(\".\")\n",
    "    \n",
    "    for one_id in new_id:\n",
    "        if one_id in except_id:\n",
    "            continue\n",
    "        if one_id == \".\":\n",
    "            if answer == \"\":\n",
    "                continue\n",
    "            elif answer[-1] == \".\":\n",
    "                continue\n",
    "        answer += one_id\n",
    "        \n",
    "        if len(answer) >= 15:\n",
    "            break\n",
    "    \n",
    "    answer = answer.strip(\".\")\n",
    "\n",
    "    while len(answer) < 3:\n",
    "        if answer == \"\":\n",
    "            answer += \"a\"\n",
    "        answer += answer[-1]\n",
    "\n",
    "    return answer\n",
    "\n",
    "if solution(\"...!@BaT#*..y.abcdefghijklm\") == \"bat.y.abcdefghi\":\n",
    "    print(1)\n",
    "\n",
    "if solution(\"z-+.^.\") == \"z--\":\n",
    "    print(2)\n",
    "\n",
    "if solution(\"=.=\") == \"aaa\":\n",
    "    print(3)\n",
    "\n",
    "if solution(\"123_.def\") == \"123_.def\":\n",
    "    print(4)\n",
    "\n",
    "if solution(\"abcdefghijklmn.p\") == \"abcdefghijklmn\":\n",
    "    print(5)\n"
   ]
  },
  {
   "cell_type": "code",
   "execution_count": 9,
   "id": "dd3adc6d",
   "metadata": {},
   "outputs": [],
   "source": [
    "# 정규식\n",
    "import re\n",
    "\n",
    "def solution(new_id):\n",
    "    st = new_id\n",
    "    st = st.lower()\n",
    "    st = re.sub('[^a-z0-9\\-_.]', '', st)\n",
    "    st = re.sub('\\.+', '.', st)\n",
    "    st = re.sub('^[.]|[.]$', '', st)\n",
    "    st = 'a' if len(st) == 0 else st[:15]\n",
    "    st = re.sub('^[.]|[.]$', '', st)\n",
    "    st = st if len(st) > 2 else st + \"\".join([st[-1] for i in range(3-len(st))])\n",
    "    return st"
   ]
  },
  {
   "cell_type": "markdown",
   "id": "789d810a",
   "metadata": {},
   "source": [
    "[내적](https://school.programmers.co.kr/learn/courses/30/lessons/70128)"
   ]
  },
  {
   "cell_type": "code",
   "execution_count": null,
   "id": "02a91f30",
   "metadata": {},
   "outputs": [],
   "source": [
    "def solution(a, b):\n",
    "    return sum(aa*bb for aa,bb in zip(a,b))"
   ]
  },
  {
   "cell_type": "code",
   "execution_count": 1,
   "id": "9b0532a7",
   "metadata": {},
   "outputs": [
    {
     "data": {
      "text/plain": [
       "3"
      ]
     },
     "execution_count": 1,
     "metadata": {},
     "output_type": "execute_result"
    }
   ],
   "source": [
    "def solution(a, b):\n",
    "    return sum(aa*bb for aa,bb in zip(a,b))\n",
    "\n",
    "solution([1,2,3,4],[-3,-1,0,2])"
   ]
  },
  {
   "cell_type": "markdown",
   "id": "ef3d0b59",
   "metadata": {},
   "source": [
    "[3진법 뒤집기](https://school.programmers.co.kr/learn/courses/30/lessons/68935)"
   ]
  },
  {
   "cell_type": "code",
   "execution_count": null,
   "id": "049c6c30",
   "metadata": {},
   "outputs": [],
   "source": []
  },
  {
   "cell_type": "code",
   "execution_count": 10,
   "id": "475dc13f",
   "metadata": {},
   "outputs": [
    {
     "data": {
      "text/plain": [
       "229"
      ]
     },
     "execution_count": 10,
     "metadata": {},
     "output_type": "execute_result"
    }
   ],
   "source": [
    "def solution(n):\n",
    "    num = \"\"\n",
    "    answer = 0\n",
    "    while n >= 3:\n",
    "        num += str(n%3)\n",
    "        n = n // 3\n",
    "    num += str(n)\n",
    "    \n",
    "    for i in range(len(num)):\n",
    "        answer += int(num[-(i+1)]) * (3**i)\n",
    "\n",
    "    return answer\n",
    "\n",
    "solution(45)\n",
    "solution(125)"
   ]
  },
  {
   "cell_type": "markdown",
   "id": "b411309e",
   "metadata": {},
   "source": [
    "[두 개 뽑아서 더하기](https://school.programmers.co.kr/learn/courses/30/lessons/68644)"
   ]
  },
  {
   "cell_type": "code",
   "execution_count": null,
   "id": "7edcc8f1",
   "metadata": {},
   "outputs": [],
   "source": [
    "def solution(numbers):\n",
    "    answer = []\n",
    "\n",
    "    for i in range(len(numbers)):\n",
    "        for j in range(i+1,len(numbers)):\n",
    "            answer.append(numbers[i]+numbers[j])\n",
    "\n",
    "    return sorted(list(set(answer)))"
   ]
  },
  {
   "cell_type": "code",
   "execution_count": 3,
   "id": "7603f207",
   "metadata": {},
   "outputs": [
    {
     "name": "stdout",
     "output_type": "stream",
     "text": [
      "[2, 3, 4, 5, 6, 7]\n",
      "[2, 5, 7, 9, 12]\n"
     ]
    }
   ],
   "source": [
    "def solution(numbers):\n",
    "    answer = []\n",
    "    for num in set(numbers):\n",
    "        if numbers.count(num) > 1:\n",
    "            answer.append(num*2)\n",
    "    numbers = list(set(numbers))\n",
    "\n",
    "    for i in range(len(numbers)):\n",
    "        for j in range(i+1,len(numbers)):\n",
    "            answer.append(numbers[i]+numbers[j])\n",
    "    answer = list(set(answer))\n",
    "    answer.sort()\n",
    "    return answer\n",
    "\n",
    "print(solution([2,1,3,1,4]))\n",
    "print(solution([5,0,2,7]))"
   ]
  },
  {
   "cell_type": "markdown",
   "id": "ef12900a",
   "metadata": {},
   "source": [
    "[[카카오 인턴] 키패드 누르기](https://school.programmers.co.kr/learn/courses/30/lessons/67256)"
   ]
  },
  {
   "cell_type": "code",
   "execution_count": null,
   "id": "91f502c4",
   "metadata": {},
   "outputs": [],
   "source": [
    "def solution(numbers, hand):\n",
    "    key_pad = (\n",
    "        (1,2,3),\n",
    "        (4,5,6),\n",
    "        (7,8,9),\n",
    "        (\"*\",0,\"#\")\n",
    "    )\n",
    "    answer = \"\"\n",
    "    left_hand = \"*\"\n",
    "    right_hand = \"#\"\n",
    "\n",
    "    for number in numbers:\n",
    "        if number in [1,4,7]:\n",
    "            left_hand = number\n",
    "            answer += \"L\"\n",
    "        elif number in [3,6,9]:\n",
    "            right_hand = number\n",
    "            answer += \"R\"\n",
    "        else:\n",
    "            for ri in range(4):\n",
    "                if number in key_pad[ri]:\n",
    "                    mid_idx = (ri,key_pad[ri].index(number))\n",
    "                if left_hand in key_pad[ri]:\n",
    "                    left_idx = (ri,key_pad[ri].index(left_hand))\n",
    "                if right_hand in key_pad[ri]:\n",
    "                    right_idx = (ri,key_pad[ri].index(right_hand))\n",
    "            r_distance = abs(right_idx[0]-mid_idx[0])+abs(right_idx[1]-mid_idx[1])\n",
    "            l_distance = abs(left_idx[0]-mid_idx[0])+abs(left_idx[1]-mid_idx[1])\n",
    "\n",
    "            if r_distance > l_distance:\n",
    "                left_hand = number\n",
    "                answer += \"L\"\n",
    "            elif r_distance <l_distance:\n",
    "                right_hand = number\n",
    "                answer += \"R\"\n",
    "            else:\n",
    "                answer += hand[0].upper()\n",
    "                if hand == \"left\":\n",
    "                    left_hand = number\n",
    "                elif hand == \"right\":\n",
    "                    right_hand = number\n",
    "            \n",
    "    return answer"
   ]
  },
  {
   "cell_type": "code",
   "execution_count": 10,
   "id": "0f577f35",
   "metadata": {},
   "outputs": [
    {
     "name": "stdout",
     "output_type": "stream",
     "text": [
      "8\n",
      "5\n"
     ]
    },
    {
     "data": {
      "text/plain": [
       "'LRLLRRLLLRR'"
      ]
     },
     "execution_count": 10,
     "metadata": {},
     "output_type": "execute_result"
    }
   ],
   "source": [
    "def solution(numbers, hand):\n",
    "    key_pad = (\n",
    "        (1,2,3),\n",
    "        (4,5,6),\n",
    "        (7,8,9),\n",
    "        (\"*\",0,\"#\")\n",
    "    )\n",
    "    answer = \"\"\n",
    "    left_hand = \"*\"\n",
    "    right_hand = \"#\"\n",
    "\n",
    "    for number in numbers:\n",
    "        if number in [1,4,7]:\n",
    "            left_hand = number\n",
    "            answer += \"L\"\n",
    "        elif number in [3,6,9]:\n",
    "            right_hand = number\n",
    "            answer += \"R\"\n",
    "        else:\n",
    "            for ri in range(4):\n",
    "                if number in key_pad[ri]:\n",
    "                    mid_idx = (ri,key_pad[ri].index(number))\n",
    "                if left_hand in key_pad[ri]:\n",
    "                    left_idx = (ri,key_pad[ri].index(left_hand))\n",
    "                if right_hand in key_pad[ri]:\n",
    "                    right_idx = (ri,key_pad[ri].index(right_hand))\n",
    "            r_distance = abs(right_idx[0]-mid_idx[0])+abs(right_idx[1]-mid_idx[1])\n",
    "            l_distance = abs(left_idx[0]-mid_idx[0])+abs(left_idx[1]-mid_idx[1])\n",
    "\n",
    "            if r_distance > l_distance:\n",
    "                left_hand = number\n",
    "                answer += \"L\"\n",
    "            elif r_distance <l_distance:\n",
    "                right_hand = number\n",
    "                answer += \"R\"\n",
    "            else:\n",
    "                answer += hand[0].upper()\n",
    "                if hand == \"left\":\n",
    "                    left_hand = number\n",
    "                    print(left_hand)\n",
    "                elif hand == \"right\":\n",
    "                    right_hand = number\n",
    "                    print(right_hand)\n",
    "            \n",
    "    return answer\n",
    "solution([7, 0, 8, 2, 8, 3, 1, 5, 7, 6, 2], \"left\")"
   ]
  },
  {
   "cell_type": "markdown",
   "id": "1ffd24ab",
   "metadata": {},
   "source": [
    "[크레인 인형뽑기 게임](https://school.programmers.co.kr/learn/courses/30/lessons/64061)"
   ]
  },
  {
   "cell_type": "code",
   "execution_count": null,
   "id": "0ce183b1",
   "metadata": {},
   "outputs": [],
   "source": []
  },
  {
   "cell_type": "code",
   "execution_count": null,
   "id": "36e2c2cf",
   "metadata": {},
   "outputs": [],
   "source": []
  }
 ],
 "metadata": {
  "kernelspec": {
   "display_name": "Python 3 (ipykernel)",
   "language": "python",
   "name": "python3"
  },
  "language_info": {
   "codemirror_mode": {
    "name": "ipython",
    "version": 3
   },
   "file_extension": ".py",
   "mimetype": "text/x-python",
   "name": "python",
   "nbconvert_exporter": "python",
   "pygments_lexer": "ipython3",
   "version": "3.11.4"
  }
 },
 "nbformat": 4,
 "nbformat_minor": 5
}

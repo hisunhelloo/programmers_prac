{
 "cells": [
  {
   "cell_type": "markdown",
   "id": "9dc86c39",
   "metadata": {},
   "source": [
    "[음양 더하기](https://school.programmers.co.kr/learn/courses/30/lessons/76501)"
   ]
  },
  {
   "cell_type": "code",
   "execution_count": null,
   "id": "0fb03c9a",
   "metadata": {},
   "outputs": [],
   "source": [
    "def solution(absolutes, signs):\n",
    "    answer = 0\n",
    "    for i,sign in enumerate(signs):\n",
    "        if sign:\n",
    "            answer += absolutes[i]\n",
    "        else:\n",
    "            answer -= absolutes[i]\n",
    "\n",
    "    return answer"
   ]
  },
  {
   "cell_type": "code",
   "execution_count": 1,
   "id": "63e84a43",
   "metadata": {},
   "outputs": [
    {
     "data": {
      "text/plain": [
       "0"
      ]
     },
     "execution_count": 1,
     "metadata": {},
     "output_type": "execute_result"
    }
   ],
   "source": [
    "def solution(absolutes, signs):\n",
    "    answer = 0\n",
    "    for i,sign in enumerate(signs):\n",
    "        if sign:\n",
    "            answer += absolutes[i]\n",
    "        else:\n",
    "            answer -= absolutes[i]\n",
    "\n",
    "    return answer\n",
    "\n",
    "solution([1,2,3],[False,False,True])"
   ]
  },
  {
   "cell_type": "code",
   "execution_count": 2,
   "id": "d978aad8",
   "metadata": {},
   "outputs": [],
   "source": [
    "# zip()\n",
    "def solution(absolutes, signs):\n",
    "    answer=0\n",
    "    for absolute,sign in zip(absolutes,signs):\n",
    "        if sign:\n",
    "            answer+=absolute\n",
    "        else:\n",
    "            answer-=absolute\n",
    "    return answer"
   ]
  },
  {
   "cell_type": "markdown",
   "id": "5fd27acc",
   "metadata": {},
   "source": [
    "[신규 아이디 추천](https://school.programmers.co.kr/learn/courses/30/lessons/72410)"
   ]
  },
  {
   "cell_type": "code",
   "execution_count": null,
   "id": "af0c3da4",
   "metadata": {},
   "outputs": [],
   "source": [
    "# 딜레마존/ 해석하기 좋은 코드냐 성능이 좋은 코드냐..\n",
    "# 이 코드는 비교적 성능이 좋은 코드..\n",
    "def solution(new_id):\n",
    "    answer = \"\"\n",
    "    except_id = \"~!@#$%^&*()=+[{]}:?,<>/\"\n",
    "    \n",
    "    if len(new_id) < 3:\n",
    "        new_id += new_id[-1]\n",
    "    \n",
    "    new_id = new_id.lower()\n",
    "    new_id = new_id.strip(\".\")\n",
    "    \n",
    "    for one_id in new_id:\n",
    "        if one_id in except_id:\n",
    "            continue\n",
    "        if one_id == \".\":\n",
    "            if answer == \"\":\n",
    "                continue\n",
    "            elif answer[-1] == \".\":\n",
    "                continue\n",
    "        answer += one_id\n",
    "        \n",
    "        if len(answer) >= 15:\n",
    "            break\n",
    "    \n",
    "    answer = answer.strip(\".\")\n",
    "\n",
    "    while len(answer) < 3:\n",
    "        if answer == \"\":\n",
    "            answer += \"a\"\n",
    "        answer += answer[-1]\n",
    "\n",
    "    return answer"
   ]
  },
  {
   "cell_type": "code",
   "execution_count": 8,
   "id": "472ca152",
   "metadata": {},
   "outputs": [
    {
     "name": "stdout",
     "output_type": "stream",
     "text": [
      "1\n",
      "2\n",
      "3\n",
      "4\n",
      "5\n"
     ]
    }
   ],
   "source": [
    "def solution(new_id):\n",
    "    answer = \"\"\n",
    "    except_id = \"~!@#$%^&*()=+[{]}:?,<>/\"\n",
    "    \n",
    "    if len(new_id) < 3:\n",
    "        new_id += new_id[-1]\n",
    "    \n",
    "    new_id = new_id.lower()\n",
    "    new_id = new_id.strip(\".\")\n",
    "    \n",
    "    for one_id in new_id:\n",
    "        if one_id in except_id:\n",
    "            continue\n",
    "        if one_id == \".\":\n",
    "            if answer == \"\":\n",
    "                continue\n",
    "            elif answer[-1] == \".\":\n",
    "                continue\n",
    "        answer += one_id\n",
    "        \n",
    "        if len(answer) >= 15:\n",
    "            break\n",
    "    \n",
    "    answer = answer.strip(\".\")\n",
    "\n",
    "    while len(answer) < 3:\n",
    "        if answer == \"\":\n",
    "            answer += \"a\"\n",
    "        answer += answer[-1]\n",
    "\n",
    "    return answer\n",
    "\n",
    "if solution(\"...!@BaT#*..y.abcdefghijklm\") == \"bat.y.abcdefghi\":\n",
    "    print(1)\n",
    "\n",
    "if solution(\"z-+.^.\") == \"z--\":\n",
    "    print(2)\n",
    "\n",
    "if solution(\"=.=\") == \"aaa\":\n",
    "    print(3)\n",
    "\n",
    "if solution(\"123_.def\") == \"123_.def\":\n",
    "    print(4)\n",
    "\n",
    "if solution(\"abcdefghijklmn.p\") == \"abcdefghijklmn\":\n",
    "    print(5)\n"
   ]
  },
  {
   "cell_type": "code",
   "execution_count": 9,
   "id": "dd3adc6d",
   "metadata": {},
   "outputs": [],
   "source": [
    "# 정규식\n",
    "import re\n",
    "\n",
    "def solution(new_id):\n",
    "    st = new_id\n",
    "    st = st.lower()\n",
    "    st = re.sub('[^a-z0-9\\-_.]', '', st)\n",
    "    st = re.sub('\\.+', '.', st)\n",
    "    st = re.sub('^[.]|[.]$', '', st)\n",
    "    st = 'a' if len(st) == 0 else st[:15]\n",
    "    st = re.sub('^[.]|[.]$', '', st)\n",
    "    st = st if len(st) > 2 else st + \"\".join([st[-1] for i in range(3-len(st))])\n",
    "    return st"
   ]
  },
  {
   "cell_type": "markdown",
   "id": "789d810a",
   "metadata": {},
   "source": [
    "[내적](https://school.programmers.co.kr/learn/courses/30/lessons/70128)"
   ]
  },
  {
   "cell_type": "code",
   "execution_count": null,
   "id": "02a91f30",
   "metadata": {},
   "outputs": [],
   "source": [
    "def solution(a, b):\n",
    "    return sum(aa*bb for aa,bb in zip(a,b))"
   ]
  },
  {
   "cell_type": "code",
   "execution_count": 1,
   "id": "9b0532a7",
   "metadata": {},
   "outputs": [
    {
     "data": {
      "text/plain": [
       "3"
      ]
     },
     "execution_count": 1,
     "metadata": {},
     "output_type": "execute_result"
    }
   ],
   "source": [
    "def solution(a, b):\n",
    "    return sum(aa*bb for aa,bb in zip(a,b))\n",
    "\n",
    "solution([1,2,3,4],[-3,-1,0,2])"
   ]
  },
  {
   "cell_type": "markdown",
   "id": "ef3d0b59",
   "metadata": {},
   "source": [
    "[3진법 뒤집기](https://school.programmers.co.kr/learn/courses/30/lessons/68935)"
   ]
  },
  {
   "cell_type": "code",
   "execution_count": null,
   "id": "049c6c30",
   "metadata": {},
   "outputs": [],
   "source": []
  },
  {
   "cell_type": "code",
   "execution_count": null,
   "id": "475dc13f",
   "metadata": {},
   "outputs": [],
   "source": []
  },
  {
   "cell_type": "markdown",
   "id": "b411309e",
   "metadata": {},
   "source": [
    "[두 개 뽑아서 더하기](https://school.programmers.co.kr/learn/courses/30/lessons/68644)"
   ]
  },
  {
   "cell_type": "code",
   "execution_count": null,
   "id": "7edcc8f1",
   "metadata": {},
   "outputs": [],
   "source": []
  },
  {
   "cell_type": "code",
   "execution_count": null,
   "id": "7603f207",
   "metadata": {},
   "outputs": [],
   "source": []
  },
  {
   "cell_type": "markdown",
   "id": "ef12900a",
   "metadata": {},
   "source": [
    "[[카카오 인턴] 키패드 누르기](https://school.programmers.co.kr/learn/courses/30/lessons/67256)"
   ]
  },
  {
   "cell_type": "code",
   "execution_count": null,
   "id": "91f502c4",
   "metadata": {},
   "outputs": [],
   "source": []
  },
  {
   "cell_type": "code",
   "execution_count": null,
   "id": "0f577f35",
   "metadata": {},
   "outputs": [],
   "source": []
  },
  {
   "cell_type": "markdown",
   "id": "1ffd24ab",
   "metadata": {},
   "source": [
    "[크레인 인형뽑기 게임](https://school.programmers.co.kr/learn/courses/30/lessons/64061)"
   ]
  },
  {
   "cell_type": "code",
   "execution_count": null,
   "id": "0ce183b1",
   "metadata": {},
   "outputs": [],
   "source": []
  },
  {
   "cell_type": "code",
   "execution_count": null,
   "id": "36e2c2cf",
   "metadata": {},
   "outputs": [],
   "source": []
  }
 ],
 "metadata": {
  "kernelspec": {
   "display_name": "Python 3 (ipykernel)",
   "language": "python",
   "name": "python3"
  },
  "language_info": {
   "codemirror_mode": {
    "name": "ipython",
    "version": 3
   },
   "file_extension": ".py",
   "mimetype": "text/x-python",
   "name": "python",
   "nbconvert_exporter": "python",
   "pygments_lexer": "ipython3",
   "version": "3.11.4"
  }
 },
 "nbformat": 4,
 "nbformat_minor": 5
}

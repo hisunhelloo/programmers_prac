{
 "cells": [
  {
   "cell_type": "markdown",
   "id": "9dc86c39",
   "metadata": {},
   "source": [
    "[가장 가까운 같은 글자](https://school.programmers.co.kr/learn/courses/30/lessons/142086)"
   ]
  },
  {
   "cell_type": "code",
   "execution_count": null,
   "id": "0fb03c9a",
   "metadata": {},
   "outputs": [],
   "source": [
    "def solution(s):\n",
    "    dic={}\n",
    "    answer = []\n",
    "    for i,v in enumerate(s):\n",
    "        if v in dic:\n",
    "            n=i-dic[v]\n",
    "        else:\n",
    "            n=-1\n",
    "        answer.append(n)\n",
    "        dic[v]=i\n",
    "    \n",
    "    return answer"
   ]
  },
  {
   "cell_type": "code",
   "execution_count": 4,
   "id": "63e84a43",
   "metadata": {},
   "outputs": [
    {
     "name": "stdout",
     "output_type": "stream",
     "text": [
      "[-1, -1, 1, -1, -1, -1]\n",
      "[-1, -1, -1, 2, 2, 2]\n",
      "[-1, -1, 1, -1, -1, -1, -1, 5, 5]\n",
      "[-1, -1, -1, -1, -1, -1]\n",
      "[-1, -1, 2, 2, 2, 2, 2, 2, 2, 2, 2]\n"
     ]
    }
   ],
   "source": [
    "def solution(s):\n",
    "    dic={}\n",
    "    answer = []\n",
    "    for i,v in enumerate(s):\n",
    "        if v in dic:\n",
    "            n=i-dic[v]\n",
    "        else:\n",
    "            n=-1\n",
    "        answer.append(n)\n",
    "        dic[v]=i\n",
    "    \n",
    "    return answer\n",
    "\n",
    "print(solution(\"foobar\"))\n",
    "print(solution(\"banana\"))\n",
    "print(solution(\"moonlabon\"))\n",
    "print(solution(\"python\"))\n",
    "print(solution(\"abababababa\"))"
   ]
  },
  {
   "cell_type": "markdown",
   "id": "5fd27acc",
   "metadata": {},
   "source": [
    "[문자열 나누기](https://school.programmers.co.kr/learn/courses/30/lessons/140108)"
   ]
  },
  {
   "cell_type": "code",
   "execution_count": null,
   "id": "af0c3da4",
   "metadata": {},
   "outputs": [],
   "source": [
    "def solution(s):\n",
    "    xn,yn=0,0\n",
    "    cnt=0\n",
    "\n",
    "    for v in s:\n",
    "        if xn==yn:\n",
    "            cnt+=1\n",
    "            x=v\n",
    "            \n",
    "        if x==v:\n",
    "            xn+=1\n",
    "        else:\n",
    "            yn+=1\n",
    "\n",
    "    return cnt"
   ]
  },
  {
   "cell_type": "code",
   "execution_count": 10,
   "id": "472ca152",
   "metadata": {},
   "outputs": [
    {
     "name": "stdout",
     "output_type": "stream",
     "text": [
      "3\n",
      "6\n",
      "3\n",
      "3\n",
      "3\n"
     ]
    }
   ],
   "source": [
    "def solution(s):\n",
    "    xn,yn=0,0\n",
    "    cnt=0\n",
    "\n",
    "    for v in s:\n",
    "        if xn==yn:\n",
    "            cnt+=1\n",
    "            x=v\n",
    "            xn,yn=0,0\n",
    "            \n",
    "        if x==v:\n",
    "            xn+=1\n",
    "        else:\n",
    "            yn+=1\n",
    "\n",
    "    return cnt\n",
    "\n",
    "print(solution(\"banana\"))\n",
    "print(solution(\"abracadabra\"))\n",
    "print(solution(\"aaabbaccccabba\"))\n",
    "print(solution(\"ppapedfkllw\"))\n",
    "print(solution(\"ppapedfkllww\"))"
   ]
  },
  {
   "cell_type": "markdown",
   "id": "789d810a",
   "metadata": {},
   "source": [
    "[명예의 전당 (1)](https://school.programmers.co.kr/learn/courses/30/lessons/138477)"
   ]
  },
  {
   "cell_type": "code",
   "execution_count": null,
   "id": "02a91f30",
   "metadata": {},
   "outputs": [],
   "source": [
    "def solution(k, score):\n",
    "    board=[]\n",
    "    answer=[]\n",
    "\n",
    "    for i in range(len(score)):\n",
    "        if i<k:\n",
    "            board.append(score[i])\n",
    "        else:\n",
    "            if score[i]>min(board[-1]):\n",
    "                board.remove(min(board))\n",
    "                board.append(score[i])\n",
    "        \n",
    "        answer.append(min(board))\n",
    "        \n",
    "    return answer"
   ]
  },
  {
   "cell_type": "code",
   "execution_count": 24,
   "id": "9b0532a7",
   "metadata": {},
   "outputs": [
    {
     "name": "stdout",
     "output_type": "stream",
     "text": [
      "[10, 10, 10, 20, 20, 100, 100]\n",
      "[0, 0, 0, 0, 20, 40, 70, 70, 150, 300]\n"
     ]
    }
   ],
   "source": [
    "def solution(k, score):\n",
    "    board=[]\n",
    "    answer=[]\n",
    "\n",
    "    for i in range(len(score)):\n",
    "        if i<k:\n",
    "            board.append(score[i])\n",
    "            board.sort(reverse=True)\n",
    "        else:\n",
    "            if score[i]>board[-1]:\n",
    "                board[-1]=score[i]\n",
    "                board.sort(reverse=True)\n",
    "        \n",
    "        answer.append(board[-1])\n",
    "        \n",
    "    return answer\n",
    "\n",
    "print(solution(3,[10, 100, 20, 150, 1, 100, 200]))\n",
    "print(solution(4,[0, 300, 40, 300, 20, 70, 150, 50, 500, 1000]))"
   ]
  },
  {
   "cell_type": "code",
   "execution_count": 25,
   "id": "d7170a07",
   "metadata": {},
   "outputs": [
    {
     "name": "stdout",
     "output_type": "stream",
     "text": [
      "[10, 10, 10, 20, 20, 100, 100]\n",
      "[0, 0, 0, 0, 20, 40, 70, 70, 150, 300]\n"
     ]
    }
   ],
   "source": [
    "def solution(k, score):\n",
    "\n",
    "    board = []\n",
    "\n",
    "    answer = []\n",
    "    for s in score:\n",
    "\n",
    "        board.append(s)\n",
    "        if (len(board) > k):\n",
    "            board.remove(min(board))\n",
    "        answer.append(min(board))\n",
    "\n",
    "    return answer\n",
    "print(solution(3,[10, 100, 20, 150, 1, 100, 200]))\n",
    "print(solution(4,[0, 300, 40, 300, 20, 70, 150, 50, 500, 1000]))"
   ]
  },
  {
   "cell_type": "markdown",
   "id": "ef3d0b59",
   "metadata": {},
   "source": [
    "[기사단원의 무기](https://school.programmers.co.kr/learn/courses/30/lessons/136798)"
   ]
  },
  {
   "cell_type": "code",
   "execution_count": null,
   "id": "049c6c30",
   "metadata": {},
   "outputs": [],
   "source": []
  },
  {
   "cell_type": "code",
   "execution_count": null,
   "id": "475dc13f",
   "metadata": {},
   "outputs": [],
   "source": []
  },
  {
   "cell_type": "markdown",
   "id": "b411309e",
   "metadata": {},
   "source": [
    "[과일 장수](https://school.programmers.co.kr/learn/courses/30/lessons/135808)"
   ]
  },
  {
   "cell_type": "code",
   "execution_count": null,
   "id": "7edcc8f1",
   "metadata": {},
   "outputs": [],
   "source": []
  },
  {
   "cell_type": "code",
   "execution_count": null,
   "id": "7603f207",
   "metadata": {},
   "outputs": [],
   "source": []
  },
  {
   "cell_type": "markdown",
   "id": "ef12900a",
   "metadata": {},
   "source": [
    "[푸드 파이트 대회](https://school.programmers.co.kr/learn/courses/30/lessons/134240)"
   ]
  },
  {
   "cell_type": "code",
   "execution_count": null,
   "id": "91f502c4",
   "metadata": {},
   "outputs": [],
   "source": []
  },
  {
   "cell_type": "code",
   "execution_count": null,
   "id": "0f577f35",
   "metadata": {},
   "outputs": [],
   "source": []
  },
  {
   "cell_type": "markdown",
   "id": "1ffd24ab",
   "metadata": {},
   "source": [
    "[햄버거 만들기](https://school.programmers.co.kr/learn/courses/30/lessons/133502)"
   ]
  },
  {
   "cell_type": "code",
   "execution_count": null,
   "id": "0ce183b1",
   "metadata": {},
   "outputs": [],
   "source": []
  },
  {
   "cell_type": "code",
   "execution_count": null,
   "id": "36e2c2cf",
   "metadata": {},
   "outputs": [],
   "source": []
  },
  {
   "cell_type": "markdown",
   "id": "617ca937",
   "metadata": {},
   "source": [
    "SQL: [특정 옵션이 포함된 자동차 리스트 구하기](https://school.programmers.co.kr/learn/courses/30/lessons/157343)"
   ]
  },
  {
   "cell_type": "code",
   "execution_count": null,
   "id": "03f1ba7a",
   "metadata": {},
   "outputs": [],
   "source": []
  },
  {
   "cell_type": "markdown",
   "id": "7c61183f",
   "metadata": {},
   "source": [
    "SQL: [자동차 대여 기록에서 장기/단기 대여 구분하기](https://school.programmers.co.kr/learn/courses/30/lessons/151138)"
   ]
  },
  {
   "cell_type": "code",
   "execution_count": null,
   "id": "bfe0fbd9",
   "metadata": {},
   "outputs": [],
   "source": []
  },
  {
   "cell_type": "markdown",
   "id": "7951cc80",
   "metadata": {},
   "source": [
    "SQL: [평균 일일 대여 요금 구하기](https://school.programmers.co.kr/learn/courses/30/lessons/151136)"
   ]
  },
  {
   "cell_type": "code",
   "execution_count": null,
   "id": "e2db3425",
   "metadata": {},
   "outputs": [],
   "source": []
  },
  {
   "cell_type": "markdown",
   "id": "8f0d0869",
   "metadata": {},
   "source": [
    "SQL: [조건에 맞는 도서 리스트 출력하기](https://school.programmers.co.kr/learn/courses/30/lessons/144853)"
   ]
  },
  {
   "cell_type": "code",
   "execution_count": null,
   "id": "edabd221",
   "metadata": {},
   "outputs": [],
   "source": []
  }
 ],
 "metadata": {
  "kernelspec": {
   "display_name": "Python 3 (ipykernel)",
   "language": "python",
   "name": "python3"
  },
  "language_info": {
   "codemirror_mode": {
    "name": "ipython",
    "version": 3
   },
   "file_extension": ".py",
   "mimetype": "text/x-python",
   "name": "python",
   "nbconvert_exporter": "python",
   "pygments_lexer": "ipython3",
   "version": "3.8.17"
  }
 },
 "nbformat": 4,
 "nbformat_minor": 5
}

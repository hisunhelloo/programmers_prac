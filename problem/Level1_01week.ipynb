{
 "cells": [
  {
   "cell_type": "markdown",
   "id": "6ea2166f",
   "metadata": {},
   "source": [
    "[[PCCP 기출문제] 1번 / 붕대 감기](https://school.programmers.co.kr/learn/courses/30/lessons/250137)"
   ]
  },
  {
   "cell_type": "code",
   "execution_count": null,
   "id": "0aa6c051",
   "metadata": {},
   "outputs": [],
   "source": [
    "def solution(bandage, health, attacks):\n",
    "    t,recover,bonus = bandage\n",
    "    hp=health\n",
    "    continuity=0\n",
    "    attacks_count=0\n",
    "\n",
    "    for i in range(attacks[-1][0]):\n",
    "        # 몬스터 공격\n",
    "        time = i+1\n",
    "        if time==attacks[attacks_count][0]:\n",
    "            hp-=attacks[attacks_count][1]\n",
    "            continuity=0\n",
    "            attacks_count+=1\n",
    "\n",
    "            if hp<=0: return -1\n",
    "        \n",
    "        # 붕대 기술\n",
    "        else:    \n",
    "            hp=min(hp+recover,health)    \n",
    "            continuity+=1\n",
    "            # 연속성공\n",
    "            if continuity==t:\n",
    "                hp=min(hp+bonus,health)\n",
    "                continuity=0\n",
    "    return hp"
   ]
  },
  {
   "cell_type": "code",
   "execution_count": 24,
   "id": "0207c97b",
   "metadata": {},
   "outputs": [
    {
     "name": "stdout",
     "output_type": "stream",
     "text": [
      "25\n"
     ]
    }
   ],
   "source": [
    "def solution(bandage, health, attacks):\n",
    "    hp=health\n",
    "    continuity=0\n",
    "    attacks_count=0\n",
    "\n",
    "    for i in range(attacks[-1][0]):\n",
    "        # 몬스터 공격\n",
    "        time = i+1\n",
    "        if time==attacks[attacks_count][0]:\n",
    "            hp-=attacks[attacks_count][1]\n",
    "            continuity=0\n",
    "            attacks_count+=1\n",
    "\n",
    "            if hp<=0: return -1\n",
    "        \n",
    "        # 붕대 기술\n",
    "        else:    \n",
    "            hp=min(hp+bandage[1],health)    \n",
    "            continuity+=1\n",
    "            # 연속성공\n",
    "            if continuity==bandage[0]:\n",
    "                hp=min(hp+bandage[2],health)\n",
    "                continuity=0\n",
    "    return hp\n",
    "\n",
    "print(solution([3,10,1],100,[[1, 5], [3, 5]]))"
   ]
  },
  {
   "cell_type": "code",
   "execution_count": 4,
   "id": "2cff3399",
   "metadata": {},
   "outputs": [
    {
     "name": "stdout",
     "output_type": "stream",
     "text": [
      "[1]\n"
     ]
    }
   ],
   "source": [
    "a = [5,1,3]\n",
    "b = [a[1] if 1==1 else 8]\n",
    "print(b)"
   ]
  },
  {
   "cell_type": "markdown",
   "id": "cf9419ed",
   "metadata": {},
   "source": [
    "[[PCCE 기출문제] 9번 / 이웃한 칸](https://school.programmers.co.kr/learn/courses/30/lessons/250125)"
   ]
  },
  {
   "cell_type": "code",
   "execution_count": null,
   "id": "ba85b7bd",
   "metadata": {},
   "outputs": [],
   "source": [
    "def solution(board, h, w):\n",
    "    color=board[h][w]\n",
    "    dh=[0,1,-1,0]\n",
    "    dw=[1,0,0,-1]\n",
    "    count=0\n",
    "\n",
    "    for i in range(4):\n",
    "        h_check=h+dh[i]\n",
    "        w_check=w+dw[i]\n",
    "        if 0 <= h_check < len(board) and 0 <= w_check < len(board):\n",
    "            if board[h_check][w_check]==color:\n",
    "                count+=1\n",
    "\n",
    "    return count"
   ]
  },
  {
   "cell_type": "code",
   "execution_count": 5,
   "id": "6bafbe6a",
   "metadata": {},
   "outputs": [
    {
     "name": "stdout",
     "output_type": "stream",
     "text": [
      "1\n"
     ]
    }
   ],
   "source": [
    "def solution(board, h, w):\n",
    "    color=board[h][w]\n",
    "    dh=[0,1,-1,0]\n",
    "    dw=[1,0,0,-1]\n",
    "    count=0\n",
    "\n",
    "    for i in range(4):\n",
    "        h_check=h+dh[i]\n",
    "        w_check=w+dw[i]\n",
    "        if 0 <= h_check < len(board) and 0 <= w_check < len(board):\n",
    "            if board[h_check][w_check]==color:\n",
    "                count+=1\n",
    "\n",
    "    return count\n",
    "print(solution([[\"yellow\", \"green\", \"blue\"], [\"blue\", \"green\", \"yellow\"], [\"yellow\", \"blue\", \"blue\"]],0,1))"
   ]
  },
  {
   "cell_type": "code",
   "execution_count": 2,
   "id": "8959a2e8",
   "metadata": {},
   "outputs": [
    {
     "name": "stdout",
     "output_type": "stream",
     "text": [
      "3\n"
     ]
    }
   ],
   "source": [
    "b=[[0 for _ in range(3)] for _ in range(2) ]\n",
    "print(len(b[0]))"
   ]
  },
  {
   "cell_type": "markdown",
   "id": "219c930f",
   "metadata": {},
   "source": [
    "[[PCCE 기출문제] 10번 / 데이터 분석](https://school.programmers.co.kr/learn/courses/30/lessons/250121)"
   ]
  },
  {
   "cell_type": "code",
   "execution_count": 11,
   "id": "45056326",
   "metadata": {},
   "outputs": [
    {
     "name": "stdout",
     "output_type": "stream",
     "text": [
      "[[3, 20300401, 10, 8], [1, 20300104, 100, 80]]\n"
     ]
    }
   ],
   "source": [
    "def solution(data, ext, val_ext, sort_by):\n",
    "    data_index=[\"code\",\"date\",\"maximum\",\"remain\"]\n",
    "    new_data=[]\n",
    "\n",
    "    for i in range(4):\n",
    "        if ext==data_index[i]:\n",
    "            for j in range(len(data)):\n",
    "                if data[j][i]<val_ext:\n",
    "                    new_data.append(data[j])\n",
    "            break\n",
    "    \n",
    "    for i in range(4):\n",
    "        if sort_by==data_index[i]:\n",
    "            new_data.sort(key=lambda x: x[i])\n",
    "\n",
    "    return new_data\n",
    "\n",
    "print(solution([[1, 20300104, 100, 80], [2, 20300804, 847, 37], [3, 20300401, 10, 8]]\t,\"date\",\t20300501,\t\"remain\"))"
   ]
  },
  {
   "cell_type": "code",
   "execution_count": 16,
   "id": "91ba4937",
   "metadata": {},
   "outputs": [
    {
     "name": "stdout",
     "output_type": "stream",
     "text": [
      "[[3, 20300401, 10, 8], [1, 20300104, 100, 80]]\n"
     ]
    }
   ],
   "source": [
    "def solution(data, ext, val_ext, sort_by):\n",
    "    data_idx=[\"code\",\"date\",\"maximum\",\"remain\"]\n",
    "    new_data=[]\n",
    "\n",
    "    ext_idx=data_idx.index(ext)\n",
    "    sort_by_idx=data_idx.index(sort_by)\n",
    "\n",
    "    for j in range(len(data)):\n",
    "                if data[j][ext_idx]<val_ext:\n",
    "                    new_data.append(data[j])\n",
    "    \n",
    "    new_data.sort(key=lambda x: x[sort_by_idx])\n",
    "\n",
    "    return new_data\n",
    "\n",
    "print(solution([[1, 20300104, 100, 80], [2, 20300804, 847, 37], [3, 20300401, 10, 8]]\t,\"date\",\t20300501,\t\"remain\"))"
   ]
  },
  {
   "cell_type": "code",
   "execution_count": 14,
   "id": "5055e7cd",
   "metadata": {},
   "outputs": [
    {
     "name": "stdout",
     "output_type": "stream",
     "text": [
      "[[1, 2], [1, 3], [2, 1], [3, 4], [3, 2]]\n",
      "[[3, 4], [3, 2], [2, 1], [1, 2], [1, 3]]\n",
      "[[2, 1], [1, 2], [3, 2], [1, 3], [3, 4]]\n"
     ]
    }
   ],
   "source": [
    "## 이차원 배열 정렬\n",
    "\n",
    "#1 첫 번째 값을 기준으로 오름차순 정렬\n",
    "lst = [[2, 1], [3, 4], [1, 2], [1, 3], [3, 2]]\n",
    "lst.sort(key=lambda x:x[0])\n",
    "print(lst)\n",
    "\n",
    "#2 첫 번째 값을 기준으로 내림차순 정렬\n",
    "lst = [[2, 1], [3, 4], [1, 2], [1, 3], [3, 2]]\n",
    "lst.sort(key=lambda x:-x[0])\n",
    "print(lst)\n",
    "\n",
    "# 두 번째 값을 기준으로 오름차순 정렬\n",
    "lst = [[2, 1], [3, 4], [1, 2], [1, 3], [3, 2]]\n",
    "lst.sort(key=lambda x:x[1])\n",
    "print(lst)"
   ]
  },
  {
   "cell_type": "markdown",
   "id": "5dc5aa18",
   "metadata": {},
   "source": [
    "[달리기 경주](https://school.programmers.co.kr/learn/courses/30/lessons/178871)"
   ]
  },
  {
   "cell_type": "code",
   "execution_count": null,
   "id": "b38ac126",
   "metadata": {},
   "outputs": [],
   "source": [
    "def solution(players, callings):\n",
    "    count=dict()\n",
    "    for i,player in enumerate(players):\n",
    "        count[player]=i\n",
    "    for i in callings:\n",
    "        idx=count[i]\n",
    "        count[i]-=1\n",
    "        count[players[idx-1]]+=1\n",
    "        players[idx-1],players[idx]=players[idx],players[idx-1]\n",
    "    \n",
    "    return players\n"
   ]
  },
  {
   "cell_type": "code",
   "execution_count": 37,
   "id": "7148d174",
   "metadata": {},
   "outputs": [
    {
     "name": "stdout",
     "output_type": "stream",
     "text": [
      "['mumu', 'kai', 'mine', 'soe', 'poe']\n"
     ]
    }
   ],
   "source": [
    "def solution(players, callings):\n",
    "    count={}\n",
    "    for i,player in enumerate(players):\n",
    "        count[player]=i\n",
    "    for i in callings:\n",
    "        idx=count[i]\n",
    "        count[i]-=1                        \n",
    "        count[players[idx-1]]+=1\n",
    "        players[idx-1],players[idx]=players[idx],players[idx-1]\n",
    "    \n",
    "    return players\n",
    "\n",
    "print(solution([\"mumu\", \"soe\", \"poe\", \"kai\", \"mine\"],\t[\"kai\", \"kai\", \"mine\", \"mine\"]))"
   ]
  },
  {
   "cell_type": "code",
   "execution_count": 27,
   "id": "58bc83f5",
   "metadata": {},
   "outputs": [],
   "source": [
    "# 실패!\n",
    "def solution(players, callings):\n",
    "    count={i:0 for i in players}\n",
    "    for i in callings:\n",
    "        count[i]+=1\n",
    "    for i in range(len(players)):\n",
    "        idx=i-count[players[i]]\n",
    "        if not(i==idx):\n",
    "            players[i],players[idx]=players[idx],players[i]\n",
    "        #new_players.insert(i-count[players[i]],players[i])        \n",
    "\n",
    "    return players"
   ]
  },
  {
   "cell_type": "code",
   "execution_count": 14,
   "id": "707cafdc",
   "metadata": {},
   "outputs": [
    {
     "name": "stdout",
     "output_type": "stream",
     "text": [
      "{'a': 0, 'b': 0, 'c': 0, 'd': 0, 'e': 0}\n",
      "['a', 'd', 'c', 'b', 'e']\n",
      "[1]\n"
     ]
    }
   ],
   "source": [
    "players=[\"a\",\"b\",\"c\",\"d\",\"e\"]\n",
    "count={i:0 for i in players}\n",
    "print(count)\n",
    "\n",
    "players[1], players[3]=players[3],players[1]\n",
    "print(players)\n",
    "\n",
    "a=[]\n",
    "a.insert(3,1)\n",
    "print(a)"
   ]
  },
  {
   "cell_type": "markdown",
   "id": "de6737c0",
   "metadata": {},
   "source": [
    "[추억 점수](https://school.programmers.co.kr/learn/courses/30/lessons/176963)"
   ]
  },
  {
   "cell_type": "code",
   "execution_count": null,
   "id": "d0914b77",
   "metadata": {},
   "outputs": [],
   "source": [
    "def solution(name, yearning, photo):\n",
    "    score = {n: y for n, y in zip(name, yearning)}\n",
    "    f_score=[0 for _ in photo]\n",
    "\n",
    "    for f_idx,people in enumerate(photo):\n",
    "        for person in people:\n",
    "            if person in score:\n",
    "                    f_score[f_idx]+=score[person]\n",
    "\n",
    "    return f_score"
   ]
  },
  {
   "cell_type": "code",
   "execution_count": 18,
   "id": "df888f36",
   "metadata": {},
   "outputs": [
    {
     "name": "stdout",
     "output_type": "stream",
     "text": [
      "[19, 15, 6]\n"
     ]
    }
   ],
   "source": [
    "def solution(name, yearning, photo):\n",
    "    score = {n: y for n, y in zip(name, yearning)}\n",
    "    f_score=[0 for _ in photo]\n",
    "\n",
    "    for f_idx,people in enumerate(photo):\n",
    "        for person in people:\n",
    "            if person in score:\n",
    "                    f_score[f_idx]+=score[person]\n",
    "\n",
    "    return f_score\n",
    "print(solution([\"may\", \"kein\", \"kain\", \"radi\"],\t[5, 10, 1, 3],\t[[\"may\", \"kein\", \"kain\", \"radi\"],[\"may\", \"kein\", \"brin\", \"deny\"], [\"kon\", \"kain\", \"may\", \"coni\"]]))"
   ]
  },
  {
   "cell_type": "code",
   "execution_count": 20,
   "id": "f890838d",
   "metadata": {},
   "outputs": [
    {
     "name": "stdout",
     "output_type": "stream",
     "text": [
      "(1, 'A')\n",
      "(2, 'B')\n",
      "(3, 'C')\n"
     ]
    }
   ],
   "source": [
    "## zip()\n",
    "## :여러개의 인자를 받고 그 인자를 순서대로 튜플로 묶음\n",
    "numbers = [1, 2, 3]\n",
    "letters = [\"A\", \"B\", \"C\"]\n",
    "for pair in zip(numbers, letters):\n",
    "    print(pair)"
   ]
  },
  {
   "cell_type": "markdown",
   "id": "f26b9406",
   "metadata": {},
   "source": [
    "[공원 산책](https://school.programmers.co.kr/learn/courses/30/lessons/172928)"
   ]
  },
  {
   "cell_type": "code",
   "execution_count": null,
   "id": "18e25ace",
   "metadata": {},
   "outputs": [],
   "source": [
    "def solution(park, routes):\n",
    "    for y, row in enumerate(park):\n",
    "        for x, value in enumerate(row):\n",
    "            if value == 'S':\n",
    "                present_x=x\n",
    "                present_y=y\n",
    "    \n",
    "    dl=[\"N\",\"E\",\"S\",\"W\"] \n",
    "    dx=[0,1,0,-1]\n",
    "    dy=[-1,0,1,0]\n",
    "    for n in range(len(routes)):\n",
    "        d,c=routes[n].split()\n",
    "        idx=dl.index(d)\n",
    "        new_x=present_x\n",
    "        new_y=present_y\n",
    "        for i in range(int(c)):\n",
    "            try:\n",
    "                if new_y+dy[idx]>=0 and new_x+dx[idx]>=0:\n",
    "                    if park[new_y+dy[idx]][new_x+dx[idx]]==\"O\" or park[new_y+dy[idx]][new_x+dx[idx]]==\"S\":\n",
    "                        new_x+=dx[idx]\n",
    "                        new_y+=dy[idx]\n",
    "                    else: \n",
    "                        new_x=present_x\n",
    "                        new_y=present_y\n",
    "                        break\n",
    "                else: \n",
    "                        new_x=present_x\n",
    "                        new_y=present_y\n",
    "                        break\n",
    "            except:\n",
    "                new_x=present_x\n",
    "                new_y=present_y\n",
    "                break\n",
    "        \n",
    "        present_x=new_x\n",
    "        present_y=new_y\n",
    "        \n",
    "\n",
    "    answer = [present_y,present_x]\n",
    "    return answer"
   ]
  },
  {
   "cell_type": "code",
   "execution_count": 2,
   "id": "699ed3ea",
   "metadata": {},
   "outputs": [
    {
     "name": "stdout",
     "output_type": "stream",
     "text": [
      "[0, 1]\n",
      "[0, 0]\n"
     ]
    }
   ],
   "source": [
    "# 왜...왜..^^ 안 될까^^^ -> S도 지날 수 있음\n",
    "def solution(park, routes):\n",
    "    for y, row in enumerate(park):\n",
    "        for x, value in enumerate(row):\n",
    "            if value == 'S':\n",
    "                present_x=x\n",
    "                present_y=y\n",
    "    \n",
    "    dl=[\"N\",\"E\",\"S\",\"W\"] \n",
    "    dx=[0,1,0,-1]\n",
    "    dy=[-1,0,1,0]\n",
    "    for n in range(len(routes)):\n",
    "        d,c=routes[n].split()\n",
    "        idx=dl.index(d)\n",
    "        new_x=present_x\n",
    "        new_y=present_y\n",
    "        for i in range(int(c)):\n",
    "            try:\n",
    "                if new_y+dy[idx]>=0 and new_x+dx[idx]>=0:\n",
    "                    if park[new_y+dy[idx]][new_x+dx[idx]]==\"O\":\n",
    "                        new_x+=dx[idx]\n",
    "                        new_y+=dy[idx]\n",
    "                    else: \n",
    "                        new_x=present_x\n",
    "                        new_y=present_y\n",
    "                        break\n",
    "                else: \n",
    "                        new_x=present_x\n",
    "                        new_y=present_y\n",
    "                        break\n",
    "            except:\n",
    "                new_x=present_x\n",
    "                new_y=present_y\n",
    "                break\n",
    "        \n",
    "        present_x=new_x\n",
    "        present_y=new_y\n",
    "        \n",
    "\n",
    "    answer = [present_y,present_x]\n",
    "    return answer\n",
    "\n",
    "#print(solution([\"SOO\",\"OOO\",\"OOO\"],\t[\"E 2\",\"S 2\",\"W 1\"]))\n",
    "print(solution([\"SOO\",\"OXX\",\"OOO\"],\t[\"E 2\",\"S 2\",\"W 1\"]))\n",
    "print(solution([\"OSO\",\"OOO\",\"OXO\",\"OOO\"],[\"E 2\",\"S 3\",\"W 1\"]))\n"
   ]
  },
  {
   "cell_type": "code",
   "execution_count": 26,
   "id": "4798cd3a",
   "metadata": {},
   "outputs": [
    {
     "name": "stdout",
     "output_type": "stream",
     "text": [
      "ㅍ\n",
      "['pa', 'ma']\n"
     ]
    }
   ],
   "source": [
    "a=[\"ㄱㄴㄷ\",\"ㄹㅁㅂ\",\"ㅎㅍㅊ\"]\n",
    "print(a[2][1])\n",
    "k=\"pa ma\"\n",
    "print(k.split())"
   ]
  },
  {
   "cell_type": "markdown",
   "id": "7f520694",
   "metadata": {},
   "source": [
    "SQL: [조건에 부합하는 중고거래 댓글 조회하기](https://school.programmers.co.kr/learn/courses/30/lessons/164673)"
   ]
  },
  {
   "cell_type": "code",
   "execution_count": null,
   "id": "e2f9e73a",
   "metadata": {},
   "outputs": [],
   "source": []
  }
 ],
 "metadata": {
  "kernelspec": {
   "display_name": "Python 3 (ipykernel)",
   "language": "python",
   "name": "python3"
  },
  "language_info": {
   "codemirror_mode": {
    "name": "ipython",
    "version": 3
   },
   "file_extension": ".py",
   "mimetype": "text/x-python",
   "name": "python",
   "nbconvert_exporter": "python",
   "pygments_lexer": "ipython3",
   "version": "3.8.17"
  }
 },
 "nbformat": 4,
 "nbformat_minor": 5
}

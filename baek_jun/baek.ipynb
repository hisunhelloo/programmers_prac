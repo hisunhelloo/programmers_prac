{
 "cells": [
  {
   "cell_type": "markdown",
   "metadata": {},
   "source": [
    "### 1002"
   ]
  },
  {
   "cell_type": "code",
   "execution_count": 8,
   "metadata": {},
   "outputs": [
    {
     "name": "stdout",
     "output_type": "stream",
     "text": [
      "1\n"
     ]
    }
   ],
   "source": [
    "# 안으로 내접할수도 있음\n",
    "a = int(input())\n",
    "for i in range(a):\n",
    "    x1, y1, r1, x2, y2, r2 = map(int, input().split())\n",
    "    distance = ((x1-x2)**2 + (y1-y2)**2)**(1/2)\n",
    "    if distance==0 and r1==r2:\n",
    "        print(-1)\n",
    "    elif abs(r1-r2) < distance < (r1+r2):\n",
    "        print(2)\n",
    "    elif  distance == abs(r1-r2) or distance == (r1+r2):\n",
    "        print(1)\n",
    "    else: print(0)\n"
   ]
  },
  {
   "cell_type": "markdown",
   "metadata": {},
   "source": [
    "### 1010"
   ]
  },
  {
   "cell_type": "code",
   "execution_count": 30,
   "metadata": {},
   "outputs": [
    {
     "data": {
      "text/plain": [
       "5"
      ]
     },
     "execution_count": 30,
     "metadata": {},
     "output_type": "execute_result"
    }
   ],
   "source": [
    "def hi(n,m):\n",
    "    a = 1\n",
    "    b = 1\n",
    "    for i in range(m,m-n,-1):\n",
    "        a *= i\n",
    "    for i in range(1,n+1):\n",
    "        b *= i\n",
    "    return int(a/b)\n",
    "# hi(13,29)\n",
    "hi(1,5)\n"
   ]
  },
  {
   "cell_type": "code",
   "execution_count": 32,
   "metadata": {},
   "outputs": [
    {
     "name": "stdout",
     "output_type": "stream",
     "text": [
      "1\n",
      "5\n",
      "67863915\n"
     ]
    }
   ],
   "source": [
    "for q in range(int(input())):\n",
    "    n,m = map(int, input().split())\n",
    "    a = 1\n",
    "    b = 1\n",
    "    for i in range(m,m-n,-1):\n",
    "        a *= i\n",
    "    for i in range(1,n+1):\n",
    "        b *= i\n",
    "    print(int(a/b))\n"
   ]
  }
 ],
 "metadata": {
  "kernelspec": {
   "display_name": "myenv",
   "language": "python",
   "name": "python3"
  },
  "language_info": {
   "codemirror_mode": {
    "name": "ipython",
    "version": 3
   },
   "file_extension": ".py",
   "mimetype": "text/x-python",
   "name": "python",
   "nbconvert_exporter": "python",
   "pygments_lexer": "ipython3",
   "version": "3.8.17"
  }
 },
 "nbformat": 4,
 "nbformat_minor": 2
}

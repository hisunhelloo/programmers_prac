{
 "cells": [
  {
   "cell_type": "code",
   "execution_count": 8,
   "metadata": {},
   "outputs": [
    {
     "name": "stdout",
     "output_type": "stream",
     "text": [
      "1\n"
     ]
    }
   ],
   "source": [
    "# 안으로 내접할수도 있음\n",
    "a = int(input())\n",
    "for i in range(a):\n",
    "    x1, y1, r1, x2, y2, r2 = map(int, input().split())\n",
    "    distance = ((x1-x2)**2 + (y1-y2)**2)**(1/2)\n",
    "    if distance==0 and r1==r2:\n",
    "        print(-1)\n",
    "    elif abs(r1-r2) < distance < (r1+r2):\n",
    "        print(2)\n",
    "    elif  distance == abs(r1-r2) or distance == (r1+r2):\n",
    "        print(1)\n",
    "    else: print(0)\n"
   ]
  }
 ],
 "metadata": {
  "kernelspec": {
   "display_name": "myenv",
   "language": "python",
   "name": "python3"
  },
  "language_info": {
   "codemirror_mode": {
    "name": "ipython",
    "version": 3
   },
   "file_extension": ".py",
   "mimetype": "text/x-python",
   "name": "python",
   "nbconvert_exporter": "python",
   "pygments_lexer": "ipython3",
   "version": "3.8.17"
  }
 },
 "nbformat": 4,
 "nbformat_minor": 2
}
